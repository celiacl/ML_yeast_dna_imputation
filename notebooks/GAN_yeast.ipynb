{
 "cells": [
  {
   "cell_type": "markdown",
   "metadata": {},
   "source": [
    "<h1>XGBoost</h1>"
   ]
  },
  {
   "cell_type": "markdown",
   "metadata": {
    "toc": true
   },
   "source": [
    "<h1>Table of Contents<span class=\"tocSkip\"></span></h1>\n",
    "<div class=\"toc\"><ul class=\"toc-item\"><li><span><a href=\"#Introduction\" data-toc-modified-id=\"Introduction-1\"><span class=\"toc-item-num\">1&nbsp;&nbsp;</span>Introduction</a></span></li><li><span><a href=\"#Dataset\" data-toc-modified-id=\"Dataset-2\"><span class=\"toc-item-num\">2&nbsp;&nbsp;</span>Dataset</a></span><ul class=\"toc-item\"><li><span><a href=\"#Loading-data\" data-toc-modified-id=\"Loading-data-2.1\"><span class=\"toc-item-num\">2.1&nbsp;&nbsp;</span>Loading data</a></span></li><li><span><a href=\"#Preprocessing\" data-toc-modified-id=\"Preprocessing-2.2\"><span class=\"toc-item-num\">2.2&nbsp;&nbsp;</span>Preprocessing</a></span></li></ul></li><li><span><a href=\"#Method\" data-toc-modified-id=\"Method-3\"><span class=\"toc-item-num\">3&nbsp;&nbsp;</span>Method</a></span><ul class=\"toc-item\"><li><span><a href=\"#Build-model\" data-toc-modified-id=\"Build-model-3.1\"><span class=\"toc-item-num\">3.1&nbsp;&nbsp;</span>Build model</a></span></li><li><span><a href=\"#Generate-data\" data-toc-modified-id=\"Generate-data-3.2\"><span class=\"toc-item-num\">3.2&nbsp;&nbsp;</span>Generate data</a></span></li><li><span><a href=\"#Training\" data-toc-modified-id=\"Training-3.3\"><span class=\"toc-item-num\">3.3&nbsp;&nbsp;</span>Training</a></span></li><li><span><a href=\"#Plot\" data-toc-modified-id=\"Plot-3.4\"><span class=\"toc-item-num\">3.4&nbsp;&nbsp;</span>Plot</a></span></li></ul></li><li><span><a href=\"#Save-model\" data-toc-modified-id=\"Save-model-4\"><span class=\"toc-item-num\">4&nbsp;&nbsp;</span>Save model</a></span></li></ul></div>"
   ]
  },
  {
   "cell_type": "markdown",
   "metadata": {},
   "source": [
    "# Introduction\n",
    "\n"
   ]
  },
  {
   "cell_type": "code",
   "execution_count": 29,
   "metadata": {},
   "outputs": [
    {
     "name": "stdout",
     "output_type": "stream",
     "text": [
      "Requirement already satisfied: xgboost in /Users/celiacabello/miniconda3/envs/TFM/lib/python3.11/site-packages (2.1.1)\n",
      "Requirement already satisfied: numpy in /Users/celiacabello/miniconda3/envs/TFM/lib/python3.11/site-packages (from xgboost) (1.26.4)\n",
      "Requirement already satisfied: scipy in /Users/celiacabello/miniconda3/envs/TFM/lib/python3.11/site-packages (from xgboost) (1.13.1)\n",
      "Note: you may need to restart the kernel to use updated packages.\n"
     ]
    }
   ],
   "source": [
    "import numpy as np\n",
    "import pandas as pd\n",
    "import tensorflow as tf\n",
    "from tensorflow.keras import layers\n",
    "\n"
   ]
  },
  {
   "cell_type": "code",
   "execution_count": 30,
   "metadata": {},
   "outputs": [],
   "source": [
    "# specify a seed for repeating the exact dataset splits\n",
    "np.random.seed(seed=28213)"
   ]
  },
  {
   "cell_type": "markdown",
   "metadata": {},
   "source": [
    "# Dataset"
   ]
  },
  {
   "cell_type": "markdown",
   "metadata": {},
   "source": [
    "## Loading data"
   ]
  },
  {
   "cell_type": "code",
   "execution_count": 31,
   "metadata": {},
   "outputs": [],
   "source": [
    "input_name = '../data/yeast_genotype_train.txt'\n",
    "df_train = pd.read_csv('../data/yeast_genotype_train.txt', sep='\\t', index_col=0)\n",
    "df_test = pd.read_csv('../data/yeast_genotype_test.txt', sep='\\t', index_col=0)\n"
   ]
  },
  {
   "cell_type": "code",
   "execution_count": 32,
   "metadata": {
    "scrolled": false
   },
   "outputs": [
    {
     "data": {
      "text/plain": [
       "((3513, 28220), (877, 28220))"
      ]
     },
     "execution_count": 32,
     "metadata": {},
     "output_type": "execute_result"
    }
   ],
   "source": [
    "df_train.shape, df_test.shape"
   ]
  },
  {
   "cell_type": "markdown",
   "metadata": {},
   "source": [
    "## Preprocessing"
   ]
  },
  {
   "cell_type": "code",
   "execution_count": null,
   "metadata": {},
   "outputs": [],
   "source": [
    "# Función para generar datos faltantes sintéticos en el conjunto de entrenamiento\n",
    "def introduce_missingness(data, missing_perc=0.1):\n",
    "    data_missing = data.copy()\n",
    "    n_samples, n_features = data_missing.shape\n",
    "    n_missing = int(np.floor(n_samples * n_features * missing_perc))\n",
    "\n",
    "    missing_indices = np.random.choice(n_samples * n_features, n_missing, replace=False)\n",
    "    for index in missing_indices:\n",
    "        i = index // n_features\n",
    "        j = index % n_features\n",
    "        data_missing.iloc[i, j] = 0  # Introducir 0s como valores faltantes\n",
    "\n",
    "    return data_missing\n",
    "# Introducir faltantes en el 10% de los datos de entrenamiento y prueba\n",
    "df_train_missing = introduce_missingness(df_train, missing_perc=0.1)\n",
    "df_test_missing = introduce_missingness(df_test, missing_perc=0.1)\n",
    "\n",
    "# Introducir faltantes en el 10% de los datos de entrenamiento\n",
    "# Reemplazar NaN por un valor especial (ej: -1) para que sea reconocido por la red\n",
    "df_train_missing.fillna(-1, inplace=True)\n",
    "df_test_missing.fillna(-1, inplace=True)\n",
    "data_dim = df_train_missing.shape[1]\n",
    "data_dim"
   ]
  },
  {
   "cell_type": "code",
   "execution_count": null,
   "metadata": {},
   "outputs": [],
   "source": [
    "# Definir el generador\n",
    "def build_generator():\n",
    "    model = tf.keras.Sequential()\n",
    "    model.add(layers.Dense(128, input_dim=data_dim))\n",
    "    model.add(layers.LeakyReLU(alpha=0.2))\n",
    "    model.add(layers.BatchNormalization(momentum=0.8))\n",
    "    model.add(layers.Dense(256))\n",
    "    model.add(layers.LeakyReLU(alpha=0.2))\n",
    "    model.add(layers.BatchNormalization(momentum=0.8))\n",
    "    model.add(layers.Dense(512))\n",
    "    model.add(layers.LeakyReLU(alpha=0.2))\n",
    "    model.add(layers.BatchNormalization(momentum=0.8))\n",
    "    model.add(layers.Dense(data_dim, activation='tanh'))\n",
    "    return model\n",
    "\n",
    "# Definir el discriminador\n",
    "def build_discriminator():\n",
    "    model = tf.keras.Sequential()\n",
    "    model.add(layers.Dense(512, input_dim=data_dim))\n",
    "    model.add(layers.LeakyReLU(alpha=0.2))\n",
    "    model.add(layers.Dense(256))\n",
    "    model.add(layers.LeakyReLU(alpha=0.2))\n",
    "    model.add(layers.Dense(1, activation='sigmoid'))\n",
    "    return model\n",
    "\n",
    "# Compilar GAN\n",
    "def build_gan(generator, discriminator):\n",
    "    discriminator.compile(loss='binary_crossentropy', optimizer='adam', metrics=['accuracy'])\n",
    "    discriminator.trainable = False\n",
    "    gan_input = tf.keras.Input(shape=(data_dim,))\n",
    "    generated_data = generator(gan_input)\n",
    "    gan_output = discriminator(generated_data)\n",
    "    gan = tf.keras.Model(gan_input, gan_output)\n",
    "    gan.compile(loss='binary_crossentropy', optimizer='adam')\n",
    "    return gan\n"
   ]
  },
  {
   "cell_type": "code",
   "execution_count": null,
   "metadata": {},
   "outputs": [],
   "source": [
    "generator = build_generator()\n",
    "discriminator = build_discriminator()\n",
    "gan = build_gan(generator, discriminator)\n"
   ]
  },
  {
   "cell_type": "code",
   "execution_count": null,
   "metadata": {},
   "outputs": [],
   "source": [
    "# Entrenar GAN\n",
    "def train_gan(gan, generator, discriminator, data, epochs=10000, batch_size=32, save_interval=1000):\n",
    "    half_batch = int(batch_size / 2)\n",
    "    \n",
    "    for epoch in range(epochs):\n",
    "        # Entrenar discriminador con datos reales\n",
    "        idx = np.random.randint(0, data.shape[0], half_batch)\n",
    "        real_data = data[idx]\n",
    "        real_labels = np.ones((half_batch, 1))\n",
    "        \n",
    "        # Generar datos sintéticos con el generador\n",
    "        noise = np.random.normal(0, 1, (half_batch, data_dim))\n",
    "        fake_data = generator.predict(noise)\n",
    "        fake_labels = np.zeros((half_batch, 1))\n",
    "        \n",
    "        # Entrenar el discriminador\n",
    "        d_loss_real = discriminator.train_on_batch(real_data, real_labels)\n",
    "        d_loss_fake = discriminator.train_on_batch(fake_data, fake_labels)\n",
    "        d_loss = 0.5 * np.add(d_loss_real, d_loss_fake)\n",
    "        \n",
    "        # Entrenar el generador (parte de la GAN)\n",
    "        noise = np.random.normal(0, 1, (batch_size, data_dim))\n",
    "        valid_y = np.ones((batch_size, 1))\n",
    "        g_loss = gan.train_on_batch(noise, valid_y)\n",
    "        \n",
    "        # Guardar el progreso\n",
    "        if epoch % save_interval == 0:\n",
    "            print(f\"{epoch} [D loss: {d_loss[0]}, acc.: {100*d_loss[1]}%] [G loss: {g_loss}]\")\n",
    "\n",
    "# Entrenar la GAN con los datos faltantes\n",
    "train_gan(gan, generator, discriminator, df_train_missing.values, epochs=10000, batch_size=32)\n",
    "\n",
    "\n"
   ]
  },
  {
   "cell_type": "code",
   "execution_count": null,
   "metadata": {},
   "outputs": [],
   "source": [
    "# Imputación de datos faltantes\n",
    "generated_data = generator.predict(df_train_missing.values)\n",
    "generated_data_test = generator.predict(df_test_missing.values)\n",
    "\n",
    "# Reemplazar los valores imputados en el conjunto original\n",
    "df_train_imputed = df_train_missing.copy()\n",
    "df_train_imputed[df_train_imputed == -1] = generated_data[df_train_imputed == -1]\n",
    "# Reemplazar los valores imputados en el conjunto original de prueba\n",
    "df_test_imputed = df_test_missing.copy()\n",
    "df_test_imputed[df_test_imputed == -1] = generated_data_test[df_test_imputed == -1]\n"
   ]
  },
  {
   "cell_type": "code",
   "execution_count": null,
   "metadata": {},
   "outputs": [],
   "source": [
    "import numpy as np\n",
    "import matplotlib.pyplot as plt\n",
    "from sklearn.metrics import accuracy_score, confusion_matrix, classification_report, roc_curve, auc\n",
    "\n",
    "# Evaluar la precisión de la imputación en el conjunto de prueba comparando con los valores originales\n",
    "for column in df_test.columns:\n",
    "    original = df_test[column][df_test_missing[column].isna()]\n",
    "    imputed = df_test_imputed[column][df_test_missing[column].isna()]\n",
    "\n",
    "    # Calcular precisión\n",
    "    accuracy = accuracy_score(original, imputed)\n",
    "    print(f\"Precisión en la imputación de la columna {column}: {accuracy:.4f}\")\n",
    "\n",
    "    # Matriz de confusión\n",
    "    conf_matrix = confusion_matrix(original, imputed)\n",
    "    print(f\"Matriz de confusión para la columna {column}:\")\n",
    "    print(conf_matrix)\n",
    "\n",
    "    # Reporte de clasificación\n",
    "    print(f\"Reporte de clasificación para la columna {column}:\")\n",
    "    print(classification_report(original, imputed))"
   ]
  }
 ],
 "metadata": {
  "kernelspec": {
   "display_name": "Python 3",
   "language": "python",
   "name": "python3"
  },
  "language_info": {
   "codemirror_mode": {
    "name": "ipython",
    "version": 3
   },
   "file_extension": ".py",
   "mimetype": "text/x-python",
   "name": "python",
   "nbconvert_exporter": "python",
   "pygments_lexer": "ipython3",
   "version": "3.11.8"
  },
  "toc": {
   "base_numbering": 1,
   "nav_menu": {},
   "number_sections": true,
   "sideBar": true,
   "skip_h1_title": false,
   "title_cell": "Table of Contents",
   "title_sidebar": "Contents",
   "toc_cell": true,
   "toc_position": {},
   "toc_section_display": true,
   "toc_window_display": true
  },
  "varInspector": {
   "cols": {
    "lenName": 16,
    "lenType": 16,
    "lenVar": 40
   },
   "kernels_config": {
    "python": {
     "delete_cmd_postfix": "",
     "delete_cmd_prefix": "del ",
     "library": "var_list.py",
     "varRefreshCmd": "print(var_dic_list())"
    },
    "r": {
     "delete_cmd_postfix": ") ",
     "delete_cmd_prefix": "rm(",
     "library": "var_list.r",
     "varRefreshCmd": "cat(var_dic_list()) "
    }
   },
   "types_to_exclude": [
    "module",
    "function",
    "builtin_function_or_method",
    "instance",
    "_Feature"
   ],
   "window_display": false
  }
 },
 "nbformat": 4,
 "nbformat_minor": 2
}
