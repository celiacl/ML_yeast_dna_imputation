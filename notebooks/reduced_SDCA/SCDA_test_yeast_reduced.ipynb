{
 "cells": [
  {
   "cell_type": "markdown",
   "metadata": {},
   "source": [
    "<h1>Sparse Convolutional Denoising Autoencoders for Genotype Imputation <span class=\"tocSkip\"></span></h1>"
   ]
  },
  {
   "cell_type": "markdown",
   "metadata": {},
   "source": [
    "### ORIGINAL CODE FROM https://github.com/work-hard-play-harder/SCDA."
   ]
  },
  {
   "cell_type": "markdown",
   "metadata": {},
   "source": [
    "### Se trata de una modificación en la que los datos de entrada están reducidos. Esto se hace así dado que se han implementado otros enfoques como los basados en árboles con una gestión peor de las cantidades grandes de datos, sobre todo con una capacidad de pricesamiento limitada. Así, se prueba el modelo también con datos más reducidos para ver su comportanmiento."
   ]
  },
  {
   "cell_type": "code",
   "execution_count": 9,
   "metadata": {},
   "outputs": [],
   "source": [
    "import numpy as np\n",
    "import pandas as pd\n",
    "from sklearn.model_selection import train_test_split\n",
    "\n",
    "from tensorflow import keras\n",
    "from tensorflow.keras.models import Sequential\n",
    "from tensorflow.keras.layers import Conv1D, MaxPooling1D, UpSampling1D, Dropout\n",
    "from tensorflow.keras.regularizers import l1\n",
    "from tensorflow.keras.utils import to_categorical\n",
    "\n",
    "from tensorflow.keras.models import load_model\n",
    "import matplotlib.pyplot as plt"
   ]
  },
  {
   "cell_type": "markdown",
   "metadata": {},
   "source": [
    "# Dataset"
   ]
  },
  {
   "cell_type": "markdown",
   "metadata": {},
   "source": [
    "## Loading data"
   ]
  },
  {
   "cell_type": "code",
   "execution_count": 2,
   "metadata": {},
   "outputs": [],
   "source": [
    "df_test = pd.read_parquet('../../data/processed/df_test_reduced.parquet')"
   ]
  },
  {
   "cell_type": "code",
   "execution_count": 3,
   "metadata": {
    "scrolled": false
   },
   "outputs": [
    {
     "data": {
      "text/html": [
       "<div>\n",
       "<style scoped>\n",
       "    .dataframe tbody tr th:only-of-type {\n",
       "        vertical-align: middle;\n",
       "    }\n",
       "\n",
       "    .dataframe tbody tr th {\n",
       "        vertical-align: top;\n",
       "    }\n",
       "\n",
       "    .dataframe thead th {\n",
       "        text-align: right;\n",
       "    }\n",
       "</style>\n",
       "<table border=\"1\" class=\"dataframe\">\n",
       "  <thead>\n",
       "    <tr style=\"text-align: right;\">\n",
       "      <th></th>\n",
       "      <th>10335183_chrXV_303214_G_T</th>\n",
       "      <th>10341838_chrXV_309869_T_C</th>\n",
       "      <th>10341923_chrXV_309954_G_A</th>\n",
       "      <th>10342190_chrXV_310221_T_C</th>\n",
       "      <th>10342543_chrXV_310574_A_G</th>\n",
       "      <th>10344120_chrXV_312151_C_T</th>\n",
       "      <th>10346156_chrXV_314187_C_G</th>\n",
       "      <th>10349298_chrXV_317329_C_T</th>\n",
       "      <th>3141305_chrV_249350_C_T</th>\n",
       "      <th>10383039_chrXV_351070_C_T</th>\n",
       "      <th>...</th>\n",
       "      <th>10640336_chrXV_608367_C_T</th>\n",
       "      <th>1428699_chrIV_68677_T_C</th>\n",
       "      <th>1428933_chrIV_68911_A_C</th>\n",
       "      <th>6970183_chrXI_391971_C_T</th>\n",
       "      <th>6970060_chrXI_391848_C_T</th>\n",
       "      <th>6969970_chrXI_391758_T_A</th>\n",
       "      <th>3698349_chrVI_229520_A_G</th>\n",
       "      <th>6969924_chrXI_391712_C_T</th>\n",
       "      <th>5535875_chrIX_143302_C_T</th>\n",
       "      <th>7948843_chrXII_703815_C_T</th>\n",
       "    </tr>\n",
       "  </thead>\n",
       "  <tbody>\n",
       "    <tr>\n",
       "      <th>0</th>\n",
       "      <td>1</td>\n",
       "      <td>1</td>\n",
       "      <td>1</td>\n",
       "      <td>1</td>\n",
       "      <td>1</td>\n",
       "      <td>1</td>\n",
       "      <td>1</td>\n",
       "      <td>1</td>\n",
       "      <td>1</td>\n",
       "      <td>2</td>\n",
       "      <td>...</td>\n",
       "      <td>2</td>\n",
       "      <td>1</td>\n",
       "      <td>1</td>\n",
       "      <td>1</td>\n",
       "      <td>1</td>\n",
       "      <td>1</td>\n",
       "      <td>2</td>\n",
       "      <td>1</td>\n",
       "      <td>1</td>\n",
       "      <td>1</td>\n",
       "    </tr>\n",
       "    <tr>\n",
       "      <th>1</th>\n",
       "      <td>1</td>\n",
       "      <td>1</td>\n",
       "      <td>1</td>\n",
       "      <td>1</td>\n",
       "      <td>1</td>\n",
       "      <td>1</td>\n",
       "      <td>1</td>\n",
       "      <td>1</td>\n",
       "      <td>2</td>\n",
       "      <td>1</td>\n",
       "      <td>...</td>\n",
       "      <td>1</td>\n",
       "      <td>2</td>\n",
       "      <td>2</td>\n",
       "      <td>2</td>\n",
       "      <td>2</td>\n",
       "      <td>2</td>\n",
       "      <td>1</td>\n",
       "      <td>2</td>\n",
       "      <td>1</td>\n",
       "      <td>2</td>\n",
       "    </tr>\n",
       "    <tr>\n",
       "      <th>2</th>\n",
       "      <td>2</td>\n",
       "      <td>2</td>\n",
       "      <td>2</td>\n",
       "      <td>2</td>\n",
       "      <td>2</td>\n",
       "      <td>2</td>\n",
       "      <td>2</td>\n",
       "      <td>2</td>\n",
       "      <td>1</td>\n",
       "      <td>2</td>\n",
       "      <td>...</td>\n",
       "      <td>2</td>\n",
       "      <td>1</td>\n",
       "      <td>1</td>\n",
       "      <td>1</td>\n",
       "      <td>1</td>\n",
       "      <td>1</td>\n",
       "      <td>1</td>\n",
       "      <td>1</td>\n",
       "      <td>2</td>\n",
       "      <td>1</td>\n",
       "    </tr>\n",
       "    <tr>\n",
       "      <th>3</th>\n",
       "      <td>2</td>\n",
       "      <td>2</td>\n",
       "      <td>2</td>\n",
       "      <td>2</td>\n",
       "      <td>2</td>\n",
       "      <td>2</td>\n",
       "      <td>2</td>\n",
       "      <td>2</td>\n",
       "      <td>2</td>\n",
       "      <td>1</td>\n",
       "      <td>...</td>\n",
       "      <td>1</td>\n",
       "      <td>2</td>\n",
       "      <td>2</td>\n",
       "      <td>2</td>\n",
       "      <td>2</td>\n",
       "      <td>2</td>\n",
       "      <td>2</td>\n",
       "      <td>2</td>\n",
       "      <td>2</td>\n",
       "      <td>2</td>\n",
       "    </tr>\n",
       "    <tr>\n",
       "      <th>4</th>\n",
       "      <td>1</td>\n",
       "      <td>1</td>\n",
       "      <td>1</td>\n",
       "      <td>1</td>\n",
       "      <td>1</td>\n",
       "      <td>1</td>\n",
       "      <td>1</td>\n",
       "      <td>1</td>\n",
       "      <td>1</td>\n",
       "      <td>1</td>\n",
       "      <td>...</td>\n",
       "      <td>1</td>\n",
       "      <td>1</td>\n",
       "      <td>1</td>\n",
       "      <td>2</td>\n",
       "      <td>2</td>\n",
       "      <td>2</td>\n",
       "      <td>2</td>\n",
       "      <td>2</td>\n",
       "      <td>1</td>\n",
       "      <td>1</td>\n",
       "    </tr>\n",
       "  </tbody>\n",
       "</table>\n",
       "<p>5 rows × 1000 columns</p>\n",
       "</div>"
      ],
      "text/plain": [
       "   10335183_chrXV_303214_G_T  10341838_chrXV_309869_T_C  \\\n",
       "0                          1                          1   \n",
       "1                          1                          1   \n",
       "2                          2                          2   \n",
       "3                          2                          2   \n",
       "4                          1                          1   \n",
       "\n",
       "   10341923_chrXV_309954_G_A  10342190_chrXV_310221_T_C  \\\n",
       "0                          1                          1   \n",
       "1                          1                          1   \n",
       "2                          2                          2   \n",
       "3                          2                          2   \n",
       "4                          1                          1   \n",
       "\n",
       "   10342543_chrXV_310574_A_G  10344120_chrXV_312151_C_T  \\\n",
       "0                          1                          1   \n",
       "1                          1                          1   \n",
       "2                          2                          2   \n",
       "3                          2                          2   \n",
       "4                          1                          1   \n",
       "\n",
       "   10346156_chrXV_314187_C_G  10349298_chrXV_317329_C_T  \\\n",
       "0                          1                          1   \n",
       "1                          1                          1   \n",
       "2                          2                          2   \n",
       "3                          2                          2   \n",
       "4                          1                          1   \n",
       "\n",
       "   3141305_chrV_249350_C_T  10383039_chrXV_351070_C_T  ...  \\\n",
       "0                        1                          2  ...   \n",
       "1                        2                          1  ...   \n",
       "2                        1                          2  ...   \n",
       "3                        2                          1  ...   \n",
       "4                        1                          1  ...   \n",
       "\n",
       "   10640336_chrXV_608367_C_T  1428699_chrIV_68677_T_C  \\\n",
       "0                          2                        1   \n",
       "1                          1                        2   \n",
       "2                          2                        1   \n",
       "3                          1                        2   \n",
       "4                          1                        1   \n",
       "\n",
       "   1428933_chrIV_68911_A_C  6970183_chrXI_391971_C_T  \\\n",
       "0                        1                         1   \n",
       "1                        2                         2   \n",
       "2                        1                         1   \n",
       "3                        2                         2   \n",
       "4                        1                         2   \n",
       "\n",
       "   6970060_chrXI_391848_C_T  6969970_chrXI_391758_T_A  \\\n",
       "0                         1                         1   \n",
       "1                         2                         2   \n",
       "2                         1                         1   \n",
       "3                         2                         2   \n",
       "4                         2                         2   \n",
       "\n",
       "   3698349_chrVI_229520_A_G  6969924_chrXI_391712_C_T  \\\n",
       "0                         2                         1   \n",
       "1                         1                         2   \n",
       "2                         1                         1   \n",
       "3                         2                         2   \n",
       "4                         2                         2   \n",
       "\n",
       "   5535875_chrIX_143302_C_T  7948843_chrXII_703815_C_T  \n",
       "0                         1                          1  \n",
       "1                         1                          2  \n",
       "2                         2                          1  \n",
       "3                         2                          2  \n",
       "4                         1                          1  \n",
       "\n",
       "[5 rows x 1000 columns]"
      ]
     },
     "execution_count": 3,
     "metadata": {},
     "output_type": "execute_result"
    }
   ],
   "source": [
    "df_test.head()"
   ]
  },
  {
   "cell_type": "markdown",
   "metadata": {},
   "source": [
    "## Preprocessing"
   ]
  },
  {
   "cell_type": "code",
   "execution_count": 4,
   "metadata": {},
   "outputs": [
    {
     "data": {
      "text/plain": [
       "(877, 1000, 3)"
      ]
     },
     "execution_count": 4,
     "metadata": {},
     "output_type": "execute_result"
    }
   ],
   "source": [
    "# one hot encode\n",
    "test_X = to_categorical(df_test)\n",
    "test_X.shape"
   ]
  },
  {
   "cell_type": "markdown",
   "metadata": {},
   "source": [
    "# Method"
   ]
  },
  {
   "cell_type": "markdown",
   "metadata": {},
   "source": [
    "## Load model"
   ]
  },
  {
   "cell_type": "code",
   "execution_count": 5,
   "metadata": {},
   "outputs": [],
   "source": [
    "# returns a compiled model\n",
    "SCDA = load_model('../../models/SDCA_reduced/SCDA_yeast.keras')"
   ]
  },
  {
   "cell_type": "markdown",
   "metadata": {},
   "source": [
    "## Prediction on test data"
   ]
  },
  {
   "cell_type": "code",
   "execution_count": 6,
   "metadata": {},
   "outputs": [
    {
     "name": "stdout",
     "output_type": "stream",
     "text": [
      "\u001b[1m28/28\u001b[0m \u001b[32m━━━━━━━━━━━━━━━━━━━━\u001b[0m\u001b[37m\u001b[0m \u001b[1m0s\u001b[0m 11ms/step\n",
      "\u001b[1m28/28\u001b[0m \u001b[32m━━━━━━━━━━━━━━━━━━━━\u001b[0m\u001b[37m\u001b[0m \u001b[1m0s\u001b[0m 9ms/step\n",
      "\u001b[1m28/28\u001b[0m \u001b[32m━━━━━━━━━━━━━━━━━━━━\u001b[0m\u001b[37m\u001b[0m \u001b[1m0s\u001b[0m 10ms/step\n",
      "\u001b[1m28/28\u001b[0m \u001b[32m━━━━━━━━━━━━━━━━━━━━\u001b[0m\u001b[37m\u001b[0m \u001b[1m0s\u001b[0m 10ms/step\n"
     ]
    }
   ],
   "source": [
    "\n",
    "# Porcentajes de pérdida\n",
    "missing_perc_list = [0.1, 0.2, 0.3, 0.4]\n",
    "\n",
    "# Función para calcular la probabilidad de los genotipos 0, 1, 2\n",
    "def cal_prob(predict_missing_onehot):\n",
    "    predict_prob = predict_missing_onehot[:,:,1:3] / predict_missing_onehot[:,:,1:3].sum(axis=2, keepdims=True)\n",
    "    return predict_prob\n",
    "\n",
    "# Diccionario para almacenar los resultados de precisión por cada porcentaje\n",
    "accuracy_summary = {}\n",
    "\n",
    "# Iterar sobre los porcentajes de datos faltantes\n",
    "for missing_perc in missing_perc_list:\n",
    "    avg_accuracy = []\n",
    "    \n",
    "    # Generar índices faltantes de una vez para todas las muestras\n",
    "    num_samples = test_X.shape[0]\n",
    "    missing_indices = [np.random.randint(test_X.shape[1], size=int(missing_perc * test_X.shape[1])) for _ in range(num_samples)]\n",
    "    \n",
    "    # Generar la matriz con datos faltantes en un solo paso\n",
    "    test_X_missing = test_X.copy()\n",
    "    for i in range(num_samples):\n",
    "        test_X_missing[i, missing_indices[i], :] = [1, 0, 0]  # Generar genotipos faltantes\n",
    "    \n",
    "    # Predecir utilizando el modelo entrenado en lotes en lugar de predicciones individuales\n",
    "    predict_onehot = SCDA.predict(test_X_missing, batch_size=32)  # Ajustar el tamaño del batch si es necesario\n",
    "    \n",
    "    # Iterar sobre cada muestra para calcular las precisiones\n",
    "    for i in range(num_samples):\n",
    "        # Solo se consideran las posiciones faltantes\n",
    "        predict_missing_onehot = predict_onehot[i:i + 1, missing_indices[i], :]\n",
    "        \n",
    "        # Predicción de la etiqueta\n",
    "        predict_missing = np.argmax(predict_missing_onehot, axis=2)\n",
    "\n",
    "        # Etiqueta real\n",
    "        label_missing_onehot = test_X[i:i + 1, missing_indices[i], :]\n",
    "        label_missing = np.argmax(label_missing_onehot, axis=2)\n",
    "\n",
    "        # Calcular la precisión\n",
    "        correct_prediction = np.equal(predict_missing, label_missing)\n",
    "        accuracy = np.mean(correct_prediction)\n",
    "        avg_accuracy.append(accuracy)\n",
    "\n",
    "    # Guardar la precisión promedio para el porcentaje actual\n",
    "    accuracy_summary[missing_perc] = np.mean(avg_accuracy) \n"
   ]
  },
  {
   "cell_type": "code",
   "execution_count": 7,
   "metadata": {},
   "outputs": [
    {
     "name": "stdout",
     "output_type": "stream",
     "text": [
      "\n",
      "=== Resumen de precisión promedio por porcentaje de pérdida ===\n",
      "Porcentaje de pérdida: 10.0%, Precisión promedio: 0.8407\n",
      "Porcentaje de pérdida: 20.0%, Precisión promedio: 0.8374\n",
      "Porcentaje de pérdida: 30.0%, Precisión promedio: 0.8336\n",
      "Porcentaje de pérdida: 40.0%, Precisión promedio: 0.8286\n"
     ]
    }
   ],
   "source": [
    "\n",
    "# Mostrar el resumen de las precisiones promedio\n",
    "print(\"\\n=== Resumen de precisión promedio por porcentaje de pérdida ===\")\n",
    "for perc, acc in accuracy_summary.items():\n",
    "    print(f'Porcentaje de pérdida: {perc * 100}%, Precisión promedio: {acc:.4f}')"
   ]
  },
  {
   "cell_type": "code",
   "execution_count": 10,
   "metadata": {},
   "outputs": [
    {
     "data": {
      "image/png": "[encoded data removed]",
      "text/plain": [
       "<Figure size 800x600 with 1 Axes>"
      ]
     },
     "metadata": {},
     "output_type": "display_data"
    }
   ],
   "source": [
    "#Se añade un plotting al modelo original\n",
    "# Extraer los porcentajes y las precisiones promedio del diccionario accuracy_summary\n",
    "percentages = [perc * 100 for perc in accuracy_summary.keys()]\n",
    "accuracies = [acc for acc in accuracy_summary.values()]\n",
    "\n",
    "# Crear el gráfico\n",
    "plt.figure(figsize=(8, 6))\n",
    "plt.plot(percentages, accuracies, marker='o', linestyle='-', color='b', label='Precisión promedio')\n",
    "\n",
    "# Personalizar el gráfico\n",
    "plt.title('Precisión promedio por porcentaje de pérdida de datos')\n",
    "plt.xlabel('Porcentaje de pérdida de datos (%)')\n",
    "plt.ylabel('Precisión promedio')\n",
    "plt.grid(True)\n",
    "plt.legend()\n",
    "\n",
    "# Mostrar el gráfico\n",
    "plt.show()"
   ]
  }
 ],
 "metadata": {
  "kernelspec": {
   "display_name": "TFM",
   "language": "python",
   "name": "python3"
  },
  "language_info": {
   "codemirror_mode": {
    "name": "ipython",
    "version": 3
   },
   "file_extension": ".py",
   "mimetype": "text/x-python",
   "name": "python",
   "nbconvert_exporter": "python",
   "pygments_lexer": "ipython3",
   "version": "3.11.8"
  },
  "toc": {
   "base_numbering": 1,
   "nav_menu": {},
   "number_sections": true,
   "sideBar": true,
   "skip_h1_title": false,
   "title_cell": "Table of Contents",
   "title_sidebar": "Contents",
   "toc_cell": true,
   "toc_position": {},
   "toc_section_display": true,
   "toc_window_display": true
  },
  "varInspector": {
   "cols": {
    "lenName": 16,
    "lenType": 16,
    "lenVar": 40
   },
   "kernels_config": {
    "python": {
     "delete_cmd_postfix": "",
     "delete_cmd_prefix": "del ",
     "library": "var_list.py",
     "varRefreshCmd": "print(var_dic_list())"
    },
    "r": {
     "delete_cmd_postfix": ") ",
     "delete_cmd_prefix": "rm(",
     "library": "var_list.r",
     "varRefreshCmd": "cat(var_dic_list()) "
    }
   },
   "types_to_exclude": [
    "module",
    "function",
    "builtin_function_or_method",
    "instance",
    "_Feature"
   ],
   "window_display": false
  }
 },
 "nbformat": 4,
 "nbformat_minor": 2
}
