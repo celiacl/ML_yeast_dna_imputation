{
 "cells": [
  {
   "cell_type": "markdown",
   "metadata": {},
   "source": [
    "<h1>Sparse Convolutional Denoising Autoencoders for Genotype Imputation <span class=\"tocSkip\"></span></h1>"
   ]
  },
  {
   "cell_type": "markdown",
   "metadata": {},
   "source": [
    "### ORIGINAL CODE FROM https://github.com/work-hard-play-harder/SCDA. Just change versiones of libraries or functions names wich have changed"
   ]
  },
  {
   "cell_type": "markdown",
   "metadata": {},
   "source": [
    "### MODIFICACIÓN EN LA QUE SE EJECUTA CON UNA MODIFICACIÓN EN LOS DATOS DE ENTRADA(REDUCCIÓN DE DIMENSIONALIDAD) PARA COMPRAR CON OTROS MODELOS ANTE LOS MISMOS DATOS"
   ]
  },
  {
   "cell_type": "markdown",
   "metadata": {},
   "source": [
    "# Introduction\n",
    "\n",
    "This notebook demonstrates a case study of testing a SCDA model on yeast genotype dataset with 10% missing genotypes. "
   ]
  },
  {
   "cell_type": "code",
   "execution_count": 1,
   "metadata": {},
   "outputs": [],
   "source": [
    "import numpy as np\n",
    "import pandas as pd\n",
    "from sklearn.model_selection import train_test_split\n",
    "\n",
    "from tensorflow import keras\n",
    "from tensorflow.keras.models import Sequential\n",
    "from tensorflow.keras.layers import Conv1D, MaxPooling1D, UpSampling1D, Dropout\n",
    "from tensorflow.keras.regularizers import l1\n",
    "from tensorflow.keras.utils import to_categorical\n",
    "\n",
    "from tensorflow.keras.models import load_model"
   ]
  },
  {
   "cell_type": "markdown",
   "metadata": {},
   "source": [
    "# Dataset"
   ]
  },
  {
   "cell_type": "markdown",
   "metadata": {},
   "source": [
    "## Loading data"
   ]
  },
  {
   "cell_type": "code",
   "execution_count": 2,
   "metadata": {},
   "outputs": [],
   "source": [
    "df_test = pd.read_parquet('../data/processed/df_test_reduced.parquet')"
   ]
  },
  {
   "cell_type": "code",
   "execution_count": 3,
   "metadata": {
    "scrolled": false
   },
   "outputs": [
    {
     "data": {
      "text/html": [
       "<div>\n",
       "<style scoped>\n",
       "    .dataframe tbody tr th:only-of-type {\n",
       "        vertical-align: middle;\n",
       "    }\n",
       "\n",
       "    .dataframe tbody tr th {\n",
       "        vertical-align: top;\n",
       "    }\n",
       "\n",
       "    .dataframe thead th {\n",
       "        text-align: right;\n",
       "    }\n",
       "</style>\n",
       "<table border=\"1\" class=\"dataframe\">\n",
       "  <thead>\n",
       "    <tr style=\"text-align: right;\">\n",
       "      <th></th>\n",
       "      <th>10335183_chrXV_303214_G_T</th>\n",
       "      <th>10341838_chrXV_309869_T_C</th>\n",
       "      <th>10341923_chrXV_309954_G_A</th>\n",
       "      <th>10342190_chrXV_310221_T_C</th>\n",
       "      <th>10342543_chrXV_310574_A_G</th>\n",
       "      <th>10344120_chrXV_312151_C_T</th>\n",
       "      <th>10346156_chrXV_314187_C_G</th>\n",
       "      <th>10349298_chrXV_317329_C_T</th>\n",
       "      <th>3141305_chrV_249350_C_T</th>\n",
       "      <th>10383039_chrXV_351070_C_T</th>\n",
       "      <th>...</th>\n",
       "      <th>10640336_chrXV_608367_C_T</th>\n",
       "      <th>1428699_chrIV_68677_T_C</th>\n",
       "      <th>1428933_chrIV_68911_A_C</th>\n",
       "      <th>6970183_chrXI_391971_C_T</th>\n",
       "      <th>6970060_chrXI_391848_C_T</th>\n",
       "      <th>6969970_chrXI_391758_T_A</th>\n",
       "      <th>3698349_chrVI_229520_A_G</th>\n",
       "      <th>6969924_chrXI_391712_C_T</th>\n",
       "      <th>5535875_chrIX_143302_C_T</th>\n",
       "      <th>7948843_chrXII_703815_C_T</th>\n",
       "    </tr>\n",
       "  </thead>\n",
       "  <tbody>\n",
       "    <tr>\n",
       "      <th>0</th>\n",
       "      <td>1</td>\n",
       "      <td>1</td>\n",
       "      <td>1</td>\n",
       "      <td>1</td>\n",
       "      <td>1</td>\n",
       "      <td>1</td>\n",
       "      <td>1</td>\n",
       "      <td>1</td>\n",
       "      <td>1</td>\n",
       "      <td>2</td>\n",
       "      <td>...</td>\n",
       "      <td>2</td>\n",
       "      <td>1</td>\n",
       "      <td>1</td>\n",
       "      <td>1</td>\n",
       "      <td>1</td>\n",
       "      <td>1</td>\n",
       "      <td>2</td>\n",
       "      <td>1</td>\n",
       "      <td>1</td>\n",
       "      <td>1</td>\n",
       "    </tr>\n",
       "    <tr>\n",
       "      <th>1</th>\n",
       "      <td>1</td>\n",
       "      <td>1</td>\n",
       "      <td>1</td>\n",
       "      <td>1</td>\n",
       "      <td>1</td>\n",
       "      <td>1</td>\n",
       "      <td>1</td>\n",
       "      <td>1</td>\n",
       "      <td>2</td>\n",
       "      <td>1</td>\n",
       "      <td>...</td>\n",
       "      <td>1</td>\n",
       "      <td>2</td>\n",
       "      <td>2</td>\n",
       "      <td>2</td>\n",
       "      <td>2</td>\n",
       "      <td>2</td>\n",
       "      <td>1</td>\n",
       "      <td>2</td>\n",
       "      <td>1</td>\n",
       "      <td>2</td>\n",
       "    </tr>\n",
       "    <tr>\n",
       "      <th>2</th>\n",
       "      <td>2</td>\n",
       "      <td>2</td>\n",
       "      <td>2</td>\n",
       "      <td>2</td>\n",
       "      <td>2</td>\n",
       "      <td>2</td>\n",
       "      <td>2</td>\n",
       "      <td>2</td>\n",
       "      <td>1</td>\n",
       "      <td>2</td>\n",
       "      <td>...</td>\n",
       "      <td>2</td>\n",
       "      <td>1</td>\n",
       "      <td>1</td>\n",
       "      <td>1</td>\n",
       "      <td>1</td>\n",
       "      <td>1</td>\n",
       "      <td>1</td>\n",
       "      <td>1</td>\n",
       "      <td>2</td>\n",
       "      <td>1</td>\n",
       "    </tr>\n",
       "    <tr>\n",
       "      <th>3</th>\n",
       "      <td>2</td>\n",
       "      <td>2</td>\n",
       "      <td>2</td>\n",
       "      <td>2</td>\n",
       "      <td>2</td>\n",
       "      <td>2</td>\n",
       "      <td>2</td>\n",
       "      <td>2</td>\n",
       "      <td>2</td>\n",
       "      <td>1</td>\n",
       "      <td>...</td>\n",
       "      <td>1</td>\n",
       "      <td>2</td>\n",
       "      <td>2</td>\n",
       "      <td>2</td>\n",
       "      <td>2</td>\n",
       "      <td>2</td>\n",
       "      <td>2</td>\n",
       "      <td>2</td>\n",
       "      <td>2</td>\n",
       "      <td>2</td>\n",
       "    </tr>\n",
       "    <tr>\n",
       "      <th>4</th>\n",
       "      <td>1</td>\n",
       "      <td>1</td>\n",
       "      <td>1</td>\n",
       "      <td>1</td>\n",
       "      <td>1</td>\n",
       "      <td>1</td>\n",
       "      <td>1</td>\n",
       "      <td>1</td>\n",
       "      <td>1</td>\n",
       "      <td>1</td>\n",
       "      <td>...</td>\n",
       "      <td>1</td>\n",
       "      <td>1</td>\n",
       "      <td>1</td>\n",
       "      <td>2</td>\n",
       "      <td>2</td>\n",
       "      <td>2</td>\n",
       "      <td>2</td>\n",
       "      <td>2</td>\n",
       "      <td>1</td>\n",
       "      <td>1</td>\n",
       "    </tr>\n",
       "  </tbody>\n",
       "</table>\n",
       "<p>5 rows × 1000 columns</p>\n",
       "</div>"
      ],
      "text/plain": [
       "   10335183_chrXV_303214_G_T  10341838_chrXV_309869_T_C  \\\n",
       "0                          1                          1   \n",
       "1                          1                          1   \n",
       "2                          2                          2   \n",
       "3                          2                          2   \n",
       "4                          1                          1   \n",
       "\n",
       "   10341923_chrXV_309954_G_A  10342190_chrXV_310221_T_C  \\\n",
       "0                          1                          1   \n",
       "1                          1                          1   \n",
       "2                          2                          2   \n",
       "3                          2                          2   \n",
       "4                          1                          1   \n",
       "\n",
       "   10342543_chrXV_310574_A_G  10344120_chrXV_312151_C_T  \\\n",
       "0                          1                          1   \n",
       "1                          1                          1   \n",
       "2                          2                          2   \n",
       "3                          2                          2   \n",
       "4                          1                          1   \n",
       "\n",
       "   10346156_chrXV_314187_C_G  10349298_chrXV_317329_C_T  \\\n",
       "0                          1                          1   \n",
       "1                          1                          1   \n",
       "2                          2                          2   \n",
       "3                          2                          2   \n",
       "4                          1                          1   \n",
       "\n",
       "   3141305_chrV_249350_C_T  10383039_chrXV_351070_C_T  ...  \\\n",
       "0                        1                          2  ...   \n",
       "1                        2                          1  ...   \n",
       "2                        1                          2  ...   \n",
       "3                        2                          1  ...   \n",
       "4                        1                          1  ...   \n",
       "\n",
       "   10640336_chrXV_608367_C_T  1428699_chrIV_68677_T_C  \\\n",
       "0                          2                        1   \n",
       "1                          1                        2   \n",
       "2                          2                        1   \n",
       "3                          1                        2   \n",
       "4                          1                        1   \n",
       "\n",
       "   1428933_chrIV_68911_A_C  6970183_chrXI_391971_C_T  \\\n",
       "0                        1                         1   \n",
       "1                        2                         2   \n",
       "2                        1                         1   \n",
       "3                        2                         2   \n",
       "4                        1                         2   \n",
       "\n",
       "   6970060_chrXI_391848_C_T  6969970_chrXI_391758_T_A  \\\n",
       "0                         1                         1   \n",
       "1                         2                         2   \n",
       "2                         1                         1   \n",
       "3                         2                         2   \n",
       "4                         2                         2   \n",
       "\n",
       "   3698349_chrVI_229520_A_G  6969924_chrXI_391712_C_T  \\\n",
       "0                         2                         1   \n",
       "1                         1                         2   \n",
       "2                         1                         1   \n",
       "3                         2                         2   \n",
       "4                         2                         2   \n",
       "\n",
       "   5535875_chrIX_143302_C_T  7948843_chrXII_703815_C_T  \n",
       "0                         1                          1  \n",
       "1                         1                          2  \n",
       "2                         2                          1  \n",
       "3                         2                          2  \n",
       "4                         1                          1  \n",
       "\n",
       "[5 rows x 1000 columns]"
      ]
     },
     "execution_count": 3,
     "metadata": {},
     "output_type": "execute_result"
    }
   ],
   "source": [
    "df_test.head()"
   ]
  },
  {
   "cell_type": "markdown",
   "metadata": {},
   "source": [
    "## Preprocessing"
   ]
  },
  {
   "cell_type": "code",
   "execution_count": 4,
   "metadata": {},
   "outputs": [
    {
     "data": {
      "text/plain": [
       "(877, 1000, 3)"
      ]
     },
     "execution_count": 4,
     "metadata": {},
     "output_type": "execute_result"
    }
   ],
   "source": [
    "# one hot encode\n",
    "test_X = to_categorical(df_test)\n",
    "test_X.shape"
   ]
  },
  {
   "cell_type": "markdown",
   "metadata": {},
   "source": [
    "# Method"
   ]
  },
  {
   "cell_type": "markdown",
   "metadata": {},
   "source": [
    "## Load model"
   ]
  },
  {
   "cell_type": "code",
   "execution_count": 5,
   "metadata": {},
   "outputs": [],
   "source": [
    "# returns a compiled model\n",
    "SCDA = load_model('../models/SDCA_reduced/SCDA_yeast.keras')"
   ]
  },
  {
   "cell_type": "markdown",
   "metadata": {},
   "source": [
    "## Prediction on test data"
   ]
  },
  {
   "cell_type": "code",
   "execution_count": 6,
   "metadata": {},
   "outputs": [],
   "source": [
    "# Porcentajes de pérdida\n",
    "missing_perc_list = [0.1, 0.2, 0.3, 0.4]\n",
    "\n",
    "# Crear una copia del test original\n",
    "test_X_missing = test_X.copy()\n",
    "test_X_missing.shape\n",
    "\n",
    "def cal_prob(predict_missing_onehot):\n",
    "    # Calcular la probabilidad de los genotipos 0, 1, 2\n",
    "    predict_prob = predict_missing_onehot[:,:,1:3] / predict_missing_onehot[:,:,1:3].sum(axis=2, keepdims=True)\n",
    "    return predict_prob[0]\n",
    "\n",
    "# Iterar sobre los porcentajes de datos faltantes\n",
    "for missing_perc in missing_perc_list:\n",
    "    avg_accuracy = []\n",
    "    test_X_missing = test_X.copy()  # Reiniciar la copia del test para cada porcentaje\n",
    "    \n",
    "    for i in range(test_X_missing.shape[0]):\n",
    "        # Generar genotipos faltantes\n",
    "        missing_size = int(missing_perc * test_X_missing.shape[1])\n",
    "        missing_index = np.random.randint(test_X_missing.shape[1], size=missing_size)\n",
    "        test_X_missing[i, missing_index, :] = [1, 0, 0]\n",
    "\n",
    "        # Predecir utilizando el modelo entrenado\n",
    "        predict_onehot = SCDA.predict(test_X_missing[i:i + 1, :, :])\n",
    "\n",
    "        # Solo se consideran las posiciones faltantes\n",
    "        predict_missing_onehot = predict_onehot[0:1, missing_index, :]\n",
    "        \n",
    "        # Calcular la probabilidad y guardar el archivo.\n",
    "        predict_prob = cal_prob(predict_missing_onehot)\n",
    "        pd.DataFrame(predict_prob).to_csv('../data/generated/SCDA_reduced/imputed_{}_missing_{}.parquet'\n",
    "                                          .format(df_test.index[i], missing_perc),\n",
    "                                          header=[1, 2],\n",
    "                                          index=False)\n",
    "\n",
    "        # Predicción de la etiqueta\n",
    "        predict_missing = np.argmax(predict_missing_onehot, axis=2)\n",
    "\n",
    "        # Etiqueta real\n",
    "        label_missing_onehot = test_X[i:i + 1, missing_index, :]\n",
    "        label_missing = np.argmax(label_missing_onehot, axis=2)\n",
    "\n",
    "        # Calcular la precisión\n",
    "        correct_prediction = np.equal(predict_missing, label_missing)\n",
    "        accuracy = np.mean(correct_prediction)\n",
    "        print('{}/{}, sample ID: {}, missing %: {}, accuracy: {:.4f}'.format(\n",
    "            i, test_X_missing.shape[0], df_test.index[i], missing_perc, accuracy))\n",
    "\n",
    "        avg_accuracy.append(accuracy)\n",
    "\n",
    "    # Promedio de la precisión para el porcentaje de datos faltantes actual\n",
    "    print('\\nThe average imputation accuracy on test data with {:.1f} missing genotypes is {:.4f}: '\n",
    "          .format(missing_perc, np.mean(avg_accuracy)))"
   ]
  }
 ],
 "metadata": {
  "kernelspec": {
   "display_name": "TFM",
   "language": "python",
   "name": "python3"
  },
  "language_info": {
   "codemirror_mode": {
    "name": "ipython",
    "version": 3
   },
   "file_extension": ".py",
   "mimetype": "text/x-python",
   "name": "python",
   "nbconvert_exporter": "python",
   "pygments_lexer": "ipython3",
   "version": "3.11.8"
  },
  "toc": {
   "base_numbering": 1,
   "nav_menu": {},
   "number_sections": true,
   "sideBar": true,
   "skip_h1_title": false,
   "title_cell": "Table of Contents",
   "title_sidebar": "Contents",
   "toc_cell": true,
   "toc_position": {},
   "toc_section_display": true,
   "toc_window_display": true
  },
  "varInspector": {
   "cols": {
    "lenName": 16,
    "lenType": 16,
    "lenVar": 40
   },
   "kernels_config": {
    "python": {
     "delete_cmd_postfix": "",
     "delete_cmd_prefix": "del ",
     "library": "var_list.py",
     "varRefreshCmd": "print(var_dic_list())"
    },
    "r": {
     "delete_cmd_postfix": ") ",
     "delete_cmd_prefix": "rm(",
     "library": "var_list.r",
     "varRefreshCmd": "cat(var_dic_list()) "
    }
   },
   "types_to_exclude": [
    "module",
    "function",
    "builtin_function_or_method",
    "instance",
    "_Feature"
   ],
   "window_display": false
  }
 },
 "nbformat": 4,
 "nbformat_minor": 2
}
