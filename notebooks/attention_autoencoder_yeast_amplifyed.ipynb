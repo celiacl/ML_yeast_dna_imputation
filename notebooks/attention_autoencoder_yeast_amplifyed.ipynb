{
 "cells": [
  {
   "cell_type": "markdown",
   "metadata": {},
   "source": [
    "### AUTOENCODERS + ATTENTION MECHANISM CON EL DATASET GRANDE"
   ]
  },
  {
   "cell_type": "markdown",
   "metadata": {},
   "source": [
    "En este cuaderno se explora una modificación en autoencoders, basándonos en el autoencoder del modelo SDCA, el uso de autoencoders con mecanismos de atención para la imputación de valores faltantes. Los autoencoders son redes neuronales diseñadas para aprender una representación comprimida de los datos y luego reconstruir la información original. Incorporar un mecanismo de atención permite al modelo enfocarse en las características más importantes, mejorando su capacidad para imputar datos de manera precisa.\n",
    "\n",
    "En este caso se usa el conjunto de datos GRANDE (28220 columnas) para ver que resultados se obtienen con todos datos.\n",
    "\n",
    "Los objetivos principales de este cuaderno son:\n",
    "- Utilizar autoencoders con atención para reconstruir datos faltantes y aprender representaciones robustas de los datos incompletos.\n",
    "- valuar el rendimiento del autoencoder en la imputación bajo diferentes niveles de valores faltantes.\n",
    "- Comparar este enfoque con métodos alternativos: XGBoost, KNN , RF, SDCA\n",
    "\n",
    "Descripción del enfoque:\n",
    "- Codificación y decodificación: El autoencoder aprende una representación comprimida de los datos y luego reconstruye los valores faltantes en las características.\n",
    "- Atención: El mecanismo de atención ajusta la importancia de las características en el proceso de imputación, mejorando la precisión de la reconstrucción.\n",
    "- Evaluación: Se mide la capacidad del autoencoder para imputar correctamente los valores faltantes CON DISTINTPOS PORCENTAJES DE PÉRDIDA."
   ]
  },
  {
   "cell_type": "markdown",
   "metadata": {},
   "source": [
    "### attention autoencoder con TODOS LOS DATOS"
   ]
  },
  {
   "cell_type": "code",
   "execution_count": 1,
   "metadata": {},
   "outputs": [],
   "source": [
    "#Importar librerias\n",
    "import numpy as np\n",
    "import pandas as pd\n",
    "from sklearn.model_selection import train_test_split\n",
    "import tensorflow as tf\n",
    "from tensorflow.keras.layers import Input, Dense, Conv1D, MaxPooling1D, UpSampling1D, Multiply, Dropout\n",
    "from tensorflow.keras.models import Model\n",
    "from tensorflow.keras.regularizers import l1\n",
    "import matplotlib.pyplot as plt\n",
    "import zipfile\n",
    "import builtins\n",
    "from tensorflow.keras.utils import to_categorical"
   ]
  },
  {
   "cell_type": "code",
   "execution_count": 2,
   "metadata": {},
   "outputs": [],
   "source": [
    "# Hiperparámetros\n",
    "batch_size = 32\n",
    "lr = 1e-3\n",
    "epochs = 10\n",
    "kr = 1e-4  # Regularización L1\n",
    "drop_prec = 0.25  # Dropout"
   ]
  },
  {
   "cell_type": "code",
   "execution_count": 3,
   "metadata": {},
   "outputs": [],
   "source": [
    "# Cargar y procesar los datos, en este caso se coge el dataset grande que hay que descomprimir primero\n",
    "\n",
    "def unzip(archivo_zip, variable_name):\n",
    "    \"\"\"\n",
    "    Extrae y carga el contenido del único archivo dentro de un ZIP en una variable global.\n",
    "    \n",
    "    Parámetros:\n",
    "    - archivo_zip: Ruta al archivo ZIP.\n",
    "    - variable_name: Nombre de la variable global donde se guardará el DataFrame.\n",
    "    \"\"\"\n",
    "    with zipfile.ZipFile(archivo_zip, 'r') as zip_ref:\n",
    "        # Obtiene directamente el primer (y único) archivo\n",
    "        file_name = zip_ref.namelist()[0]\n",
    "        with zip_ref.open(file_name) as txt_file:\n",
    "            # Leer el archivo como un DataFrame de pandas\n",
    "            df = pd.read_csv(txt_file, sep='\\t', index_col=0)\n",
    "            \n",
    "            # Asignar el DataFrame a una variable global con el nombre proporcionado\n",
    "            builtins.__dict__[variable_name] = df"
   ]
  },
  {
   "cell_type": "code",
   "execution_count": 4,
   "metadata": {},
   "outputs": [],
   "source": [
    "\n",
    "# path de descompresión\n",
    "zip_file_train= '../data/raw/yeast_genotype_train.txt.zip'\n",
    "# Llamar a la función para descomprimir y guardar los DataFrames en variable globale\n",
    "unzip(zip_file_train, 'df_train') "
   ]
  },
  {
   "cell_type": "code",
   "execution_count": 5,
   "metadata": {},
   "outputs": [],
   "source": [
    "\n",
    "df_onehot = tf.keras.utils.to_categorical(df_train)\n",
    "train_X, valid_X = train_test_split(df_onehot, test_size=0.2)"
   ]
  },
  {
   "cell_type": "code",
   "execution_count": 6,
   "metadata": {},
   "outputs": [
    {
     "data": {
      "text/plain": [
       "<KerasTensor shape=(None, 28220, 3), dtype=float32, sparse=False, name=keras_tensor>"
      ]
     },
     "execution_count": 6,
     "metadata": {},
     "output_type": "execute_result"
    }
   ],
   "source": [
    "\n",
    "# Dimensiones de entrada\n",
    "feature_size = train_X.shape[1]\n",
    "inChannel = train_X.shape[2]\n",
    "input_shape = (feature_size, inChannel)\n",
    "\n",
    "# Codificador con atención\n",
    "inputs = Input(shape=input_shape)\n",
    "inputs"
   ]
  },
  {
   "cell_type": "code",
   "execution_count": 7,
   "metadata": {},
   "outputs": [],
   "source": [
    "# Capas convolucionales del encoder\n",
    "x = Conv1D(32, 5, padding='same', activation='relu', kernel_regularizer=l1(kr))(inputs)\n",
    "x = MaxPooling1D(pool_size=2)(x)\n",
    "x = Dropout(drop_prec)(x)\n",
    "x = Conv1D(64, 5, padding='same', activation='relu', kernel_regularizer=l1(kr))(x)\n",
    "x = MaxPooling1D(pool_size=2)(x)\n",
    "x = Dropout(drop_prec)(x)\n",
    "x = Conv1D(128, 5, padding='same', activation='relu', kernel_regularizer=l1(kr))(x)\n",
    "\n",
    "# Mecanismo de atención\n",
    "def attention_1d(inputs):\n",
    "    # Capa densa para generar los pesos de atención\n",
    "    attention = Dense(inputs.shape[-1], activation='softmax')(inputs)\n",
    "    \n",
    "    # Multiplicar las activaciones convolucionales por los pesos de atención\n",
    "    attention = Multiply()([inputs, attention])\n",
    "    return attention\n",
    "\n",
    "# Aplicar la atención después del encoder\n",
    "x = attention_1d(x)"
   ]
  },
  {
   "cell_type": "code",
   "execution_count": 8,
   "metadata": {},
   "outputs": [],
   "source": [
    "# Decodificador convolucional\n",
    "x = Conv1D(64, 5, padding='same', activation='relu', kernel_regularizer=l1(kr))(x)\n",
    "x = UpSampling1D(2)(x)\n",
    "x = Conv1D(32, 5, padding='same', activation='relu', kernel_regularizer=l1(kr))(x)\n",
    "x = UpSampling1D(2)(x)\n",
    "outputs = Conv1D(inChannel, 5, activation='softmax', padding='same')(x)\n"
   ]
  },
  {
   "cell_type": "code",
   "execution_count": 9,
   "metadata": {},
   "outputs": [],
   "source": [
    "# Definir el modelo\n",
    "attention_model = Model(inputs, outputs)"
   ]
  },
  {
   "cell_type": "code",
   "execution_count": 10,
   "metadata": {},
   "outputs": [
    {
     "data": {
      "text/html": [
       "<pre style=\"white-space:pre;overflow-x:auto;line-height:normal;font-family:Menlo,'DejaVu Sans Mono',consolas,'Courier New',monospace\"><span style=\"font-weight: bold\">Model: \"functional\"</span>\n",
       "</pre>\n"
      ],
      "text/plain": [
       "\u001b[1mModel: \"functional\"\u001b[0m\n"
      ]
     },
     "metadata": {},
     "output_type": "display_data"
    },
    {
     "data": {
      "text/html": [
       "<pre style=\"white-space:pre;overflow-x:auto;line-height:normal;font-family:Menlo,'DejaVu Sans Mono',consolas,'Courier New',monospace\">┏━━━━━━━━━━━━━━━━━━━━━┳━━━━━━━━━━━━━━━━━━━┳━━━━━━━━━━━━┳━━━━━━━━━━━━━━━━━━━┓\n",
       "┃<span style=\"font-weight: bold\"> Layer (type)        </span>┃<span style=\"font-weight: bold\"> Output Shape      </span>┃<span style=\"font-weight: bold\">    Param # </span>┃<span style=\"font-weight: bold\"> Connected to      </span>┃\n",
       "┡━━━━━━━━━━━━━━━━━━━━━╇━━━━━━━━━━━━━━━━━━━╇━━━━━━━━━━━━╇━━━━━━━━━━━━━━━━━━━┩\n",
       "│ input_layer         │ (<span style=\"color: #00d7ff; text-decoration-color: #00d7ff\">None</span>, <span style=\"color: #00af00; text-decoration-color: #00af00\">28220</span>, <span style=\"color: #00af00; text-decoration-color: #00af00\">3</span>)  │          <span style=\"color: #00af00; text-decoration-color: #00af00\">0</span> │ -                 │\n",
       "│ (<span style=\"color: #0087ff; text-decoration-color: #0087ff\">InputLayer</span>)        │                   │            │                   │\n",
       "├─────────────────────┼───────────────────┼────────────┼───────────────────┤\n",
       "│ conv1d (<span style=\"color: #0087ff; text-decoration-color: #0087ff\">Conv1D</span>)     │ (<span style=\"color: #00d7ff; text-decoration-color: #00d7ff\">None</span>, <span style=\"color: #00af00; text-decoration-color: #00af00\">28220</span>, <span style=\"color: #00af00; text-decoration-color: #00af00\">32</span>) │        <span style=\"color: #00af00; text-decoration-color: #00af00\">512</span> │ input_layer[<span style=\"color: #00af00; text-decoration-color: #00af00\">0</span>][<span style=\"color: #00af00; text-decoration-color: #00af00\">0</span>] │\n",
       "├─────────────────────┼───────────────────┼────────────┼───────────────────┤\n",
       "│ max_pooling1d       │ (<span style=\"color: #00d7ff; text-decoration-color: #00d7ff\">None</span>, <span style=\"color: #00af00; text-decoration-color: #00af00\">14110</span>, <span style=\"color: #00af00; text-decoration-color: #00af00\">32</span>) │          <span style=\"color: #00af00; text-decoration-color: #00af00\">0</span> │ conv1d[<span style=\"color: #00af00; text-decoration-color: #00af00\">0</span>][<span style=\"color: #00af00; text-decoration-color: #00af00\">0</span>]      │\n",
       "│ (<span style=\"color: #0087ff; text-decoration-color: #0087ff\">MaxPooling1D</span>)      │                   │            │                   │\n",
       "├─────────────────────┼───────────────────┼────────────┼───────────────────┤\n",
       "│ dropout (<span style=\"color: #0087ff; text-decoration-color: #0087ff\">Dropout</span>)   │ (<span style=\"color: #00d7ff; text-decoration-color: #00d7ff\">None</span>, <span style=\"color: #00af00; text-decoration-color: #00af00\">14110</span>, <span style=\"color: #00af00; text-decoration-color: #00af00\">32</span>) │          <span style=\"color: #00af00; text-decoration-color: #00af00\">0</span> │ max_pooling1d[<span style=\"color: #00af00; text-decoration-color: #00af00\">0</span>]… │\n",
       "├─────────────────────┼───────────────────┼────────────┼───────────────────┤\n",
       "│ conv1d_1 (<span style=\"color: #0087ff; text-decoration-color: #0087ff\">Conv1D</span>)   │ (<span style=\"color: #00d7ff; text-decoration-color: #00d7ff\">None</span>, <span style=\"color: #00af00; text-decoration-color: #00af00\">14110</span>, <span style=\"color: #00af00; text-decoration-color: #00af00\">64</span>) │     <span style=\"color: #00af00; text-decoration-color: #00af00\">10,304</span> │ dropout[<span style=\"color: #00af00; text-decoration-color: #00af00\">0</span>][<span style=\"color: #00af00; text-decoration-color: #00af00\">0</span>]     │\n",
       "├─────────────────────┼───────────────────┼────────────┼───────────────────┤\n",
       "│ max_pooling1d_1     │ (<span style=\"color: #00d7ff; text-decoration-color: #00d7ff\">None</span>, <span style=\"color: #00af00; text-decoration-color: #00af00\">7055</span>, <span style=\"color: #00af00; text-decoration-color: #00af00\">64</span>)  │          <span style=\"color: #00af00; text-decoration-color: #00af00\">0</span> │ conv1d_1[<span style=\"color: #00af00; text-decoration-color: #00af00\">0</span>][<span style=\"color: #00af00; text-decoration-color: #00af00\">0</span>]    │\n",
       "│ (<span style=\"color: #0087ff; text-decoration-color: #0087ff\">MaxPooling1D</span>)      │                   │            │                   │\n",
       "├─────────────────────┼───────────────────┼────────────┼───────────────────┤\n",
       "│ dropout_1 (<span style=\"color: #0087ff; text-decoration-color: #0087ff\">Dropout</span>) │ (<span style=\"color: #00d7ff; text-decoration-color: #00d7ff\">None</span>, <span style=\"color: #00af00; text-decoration-color: #00af00\">7055</span>, <span style=\"color: #00af00; text-decoration-color: #00af00\">64</span>)  │          <span style=\"color: #00af00; text-decoration-color: #00af00\">0</span> │ max_pooling1d_1[<span style=\"color: #00af00; text-decoration-color: #00af00\">…</span> │\n",
       "├─────────────────────┼───────────────────┼────────────┼───────────────────┤\n",
       "│ conv1d_2 (<span style=\"color: #0087ff; text-decoration-color: #0087ff\">Conv1D</span>)   │ (<span style=\"color: #00d7ff; text-decoration-color: #00d7ff\">None</span>, <span style=\"color: #00af00; text-decoration-color: #00af00\">7055</span>, <span style=\"color: #00af00; text-decoration-color: #00af00\">128</span>) │     <span style=\"color: #00af00; text-decoration-color: #00af00\">41,088</span> │ dropout_1[<span style=\"color: #00af00; text-decoration-color: #00af00\">0</span>][<span style=\"color: #00af00; text-decoration-color: #00af00\">0</span>]   │\n",
       "├─────────────────────┼───────────────────┼────────────┼───────────────────┤\n",
       "│ dense (<span style=\"color: #0087ff; text-decoration-color: #0087ff\">Dense</span>)       │ (<span style=\"color: #00d7ff; text-decoration-color: #00d7ff\">None</span>, <span style=\"color: #00af00; text-decoration-color: #00af00\">7055</span>, <span style=\"color: #00af00; text-decoration-color: #00af00\">128</span>) │     <span style=\"color: #00af00; text-decoration-color: #00af00\">16,512</span> │ conv1d_2[<span style=\"color: #00af00; text-decoration-color: #00af00\">0</span>][<span style=\"color: #00af00; text-decoration-color: #00af00\">0</span>]    │\n",
       "├─────────────────────┼───────────────────┼────────────┼───────────────────┤\n",
       "│ multiply (<span style=\"color: #0087ff; text-decoration-color: #0087ff\">Multiply</span>) │ (<span style=\"color: #00d7ff; text-decoration-color: #00d7ff\">None</span>, <span style=\"color: #00af00; text-decoration-color: #00af00\">7055</span>, <span style=\"color: #00af00; text-decoration-color: #00af00\">128</span>) │          <span style=\"color: #00af00; text-decoration-color: #00af00\">0</span> │ conv1d_2[<span style=\"color: #00af00; text-decoration-color: #00af00\">0</span>][<span style=\"color: #00af00; text-decoration-color: #00af00\">0</span>],   │\n",
       "│                     │                   │            │ dense[<span style=\"color: #00af00; text-decoration-color: #00af00\">0</span>][<span style=\"color: #00af00; text-decoration-color: #00af00\">0</span>]       │\n",
       "├─────────────────────┼───────────────────┼────────────┼───────────────────┤\n",
       "│ conv1d_3 (<span style=\"color: #0087ff; text-decoration-color: #0087ff\">Conv1D</span>)   │ (<span style=\"color: #00d7ff; text-decoration-color: #00d7ff\">None</span>, <span style=\"color: #00af00; text-decoration-color: #00af00\">7055</span>, <span style=\"color: #00af00; text-decoration-color: #00af00\">64</span>)  │     <span style=\"color: #00af00; text-decoration-color: #00af00\">41,024</span> │ multiply[<span style=\"color: #00af00; text-decoration-color: #00af00\">0</span>][<span style=\"color: #00af00; text-decoration-color: #00af00\">0</span>]    │\n",
       "├─────────────────────┼───────────────────┼────────────┼───────────────────┤\n",
       "│ up_sampling1d       │ (<span style=\"color: #00d7ff; text-decoration-color: #00d7ff\">None</span>, <span style=\"color: #00af00; text-decoration-color: #00af00\">14110</span>, <span style=\"color: #00af00; text-decoration-color: #00af00\">64</span>) │          <span style=\"color: #00af00; text-decoration-color: #00af00\">0</span> │ conv1d_3[<span style=\"color: #00af00; text-decoration-color: #00af00\">0</span>][<span style=\"color: #00af00; text-decoration-color: #00af00\">0</span>]    │\n",
       "│ (<span style=\"color: #0087ff; text-decoration-color: #0087ff\">UpSampling1D</span>)      │                   │            │                   │\n",
       "├─────────────────────┼───────────────────┼────────────┼───────────────────┤\n",
       "│ conv1d_4 (<span style=\"color: #0087ff; text-decoration-color: #0087ff\">Conv1D</span>)   │ (<span style=\"color: #00d7ff; text-decoration-color: #00d7ff\">None</span>, <span style=\"color: #00af00; text-decoration-color: #00af00\">14110</span>, <span style=\"color: #00af00; text-decoration-color: #00af00\">32</span>) │     <span style=\"color: #00af00; text-decoration-color: #00af00\">10,272</span> │ up_sampling1d[<span style=\"color: #00af00; text-decoration-color: #00af00\">0</span>]… │\n",
       "├─────────────────────┼───────────────────┼────────────┼───────────────────┤\n",
       "│ up_sampling1d_1     │ (<span style=\"color: #00d7ff; text-decoration-color: #00d7ff\">None</span>, <span style=\"color: #00af00; text-decoration-color: #00af00\">28220</span>, <span style=\"color: #00af00; text-decoration-color: #00af00\">32</span>) │          <span style=\"color: #00af00; text-decoration-color: #00af00\">0</span> │ conv1d_4[<span style=\"color: #00af00; text-decoration-color: #00af00\">0</span>][<span style=\"color: #00af00; text-decoration-color: #00af00\">0</span>]    │\n",
       "│ (<span style=\"color: #0087ff; text-decoration-color: #0087ff\">UpSampling1D</span>)      │                   │            │                   │\n",
       "├─────────────────────┼───────────────────┼────────────┼───────────────────┤\n",
       "│ conv1d_5 (<span style=\"color: #0087ff; text-decoration-color: #0087ff\">Conv1D</span>)   │ (<span style=\"color: #00d7ff; text-decoration-color: #00d7ff\">None</span>, <span style=\"color: #00af00; text-decoration-color: #00af00\">28220</span>, <span style=\"color: #00af00; text-decoration-color: #00af00\">3</span>)  │        <span style=\"color: #00af00; text-decoration-color: #00af00\">483</span> │ up_sampling1d_1[<span style=\"color: #00af00; text-decoration-color: #00af00\">…</span> │\n",
       "└─────────────────────┴───────────────────┴────────────┴───────────────────┘\n",
       "</pre>\n"
      ],
      "text/plain": [
       "┏━━━━━━━━━━━━━━━━━━━━━┳━━━━━━━━━━━━━━━━━━━┳━━━━━━━━━━━━┳━━━━━━━━━━━━━━━━━━━┓\n",
       "┃\u001b[1m \u001b[0m\u001b[1mLayer (type)       \u001b[0m\u001b[1m \u001b[0m┃\u001b[1m \u001b[0m\u001b[1mOutput Shape     \u001b[0m\u001b[1m \u001b[0m┃\u001b[1m \u001b[0m\u001b[1m   Param #\u001b[0m\u001b[1m \u001b[0m┃\u001b[1m \u001b[0m\u001b[1mConnected to     \u001b[0m\u001b[1m \u001b[0m┃\n",
       "┡━━━━━━━━━━━━━━━━━━━━━╇━━━━━━━━━━━━━━━━━━━╇━━━━━━━━━━━━╇━━━━━━━━━━━━━━━━━━━┩\n",
       "│ input_layer         │ (\u001b[38;5;45mNone\u001b[0m, \u001b[38;5;34m28220\u001b[0m, \u001b[38;5;34m3\u001b[0m)  │          \u001b[38;5;34m0\u001b[0m │ -                 │\n",
       "│ (\u001b[38;5;33mInputLayer\u001b[0m)        │                   │            │                   │\n",
       "├─────────────────────┼───────────────────┼────────────┼───────────────────┤\n",
       "│ conv1d (\u001b[38;5;33mConv1D\u001b[0m)     │ (\u001b[38;5;45mNone\u001b[0m, \u001b[38;5;34m28220\u001b[0m, \u001b[38;5;34m32\u001b[0m) │        \u001b[38;5;34m512\u001b[0m │ input_layer[\u001b[38;5;34m0\u001b[0m][\u001b[38;5;34m0\u001b[0m] │\n",
       "├─────────────────────┼───────────────────┼────────────┼───────────────────┤\n",
       "│ max_pooling1d       │ (\u001b[38;5;45mNone\u001b[0m, \u001b[38;5;34m14110\u001b[0m, \u001b[38;5;34m32\u001b[0m) │          \u001b[38;5;34m0\u001b[0m │ conv1d[\u001b[38;5;34m0\u001b[0m][\u001b[38;5;34m0\u001b[0m]      │\n",
       "│ (\u001b[38;5;33mMaxPooling1D\u001b[0m)      │                   │            │                   │\n",
       "├─────────────────────┼───────────────────┼────────────┼───────────────────┤\n",
       "│ dropout (\u001b[38;5;33mDropout\u001b[0m)   │ (\u001b[38;5;45mNone\u001b[0m, \u001b[38;5;34m14110\u001b[0m, \u001b[38;5;34m32\u001b[0m) │          \u001b[38;5;34m0\u001b[0m │ max_pooling1d[\u001b[38;5;34m0\u001b[0m]… │\n",
       "├─────────────────────┼───────────────────┼────────────┼───────────────────┤\n",
       "│ conv1d_1 (\u001b[38;5;33mConv1D\u001b[0m)   │ (\u001b[38;5;45mNone\u001b[0m, \u001b[38;5;34m14110\u001b[0m, \u001b[38;5;34m64\u001b[0m) │     \u001b[38;5;34m10,304\u001b[0m │ dropout[\u001b[38;5;34m0\u001b[0m][\u001b[38;5;34m0\u001b[0m]     │\n",
       "├─────────────────────┼───────────────────┼────────────┼───────────────────┤\n",
       "│ max_pooling1d_1     │ (\u001b[38;5;45mNone\u001b[0m, \u001b[38;5;34m7055\u001b[0m, \u001b[38;5;34m64\u001b[0m)  │          \u001b[38;5;34m0\u001b[0m │ conv1d_1[\u001b[38;5;34m0\u001b[0m][\u001b[38;5;34m0\u001b[0m]    │\n",
       "│ (\u001b[38;5;33mMaxPooling1D\u001b[0m)      │                   │            │                   │\n",
       "├─────────────────────┼───────────────────┼────────────┼───────────────────┤\n",
       "│ dropout_1 (\u001b[38;5;33mDropout\u001b[0m) │ (\u001b[38;5;45mNone\u001b[0m, \u001b[38;5;34m7055\u001b[0m, \u001b[38;5;34m64\u001b[0m)  │          \u001b[38;5;34m0\u001b[0m │ max_pooling1d_1[\u001b[38;5;34m…\u001b[0m │\n",
       "├─────────────────────┼───────────────────┼────────────┼───────────────────┤\n",
       "│ conv1d_2 (\u001b[38;5;33mConv1D\u001b[0m)   │ (\u001b[38;5;45mNone\u001b[0m, \u001b[38;5;34m7055\u001b[0m, \u001b[38;5;34m128\u001b[0m) │     \u001b[38;5;34m41,088\u001b[0m │ dropout_1[\u001b[38;5;34m0\u001b[0m][\u001b[38;5;34m0\u001b[0m]   │\n",
       "├─────────────────────┼───────────────────┼────────────┼───────────────────┤\n",
       "│ dense (\u001b[38;5;33mDense\u001b[0m)       │ (\u001b[38;5;45mNone\u001b[0m, \u001b[38;5;34m7055\u001b[0m, \u001b[38;5;34m128\u001b[0m) │     \u001b[38;5;34m16,512\u001b[0m │ conv1d_2[\u001b[38;5;34m0\u001b[0m][\u001b[38;5;34m0\u001b[0m]    │\n",
       "├─────────────────────┼───────────────────┼────────────┼───────────────────┤\n",
       "│ multiply (\u001b[38;5;33mMultiply\u001b[0m) │ (\u001b[38;5;45mNone\u001b[0m, \u001b[38;5;34m7055\u001b[0m, \u001b[38;5;34m128\u001b[0m) │          \u001b[38;5;34m0\u001b[0m │ conv1d_2[\u001b[38;5;34m0\u001b[0m][\u001b[38;5;34m0\u001b[0m],   │\n",
       "│                     │                   │            │ dense[\u001b[38;5;34m0\u001b[0m][\u001b[38;5;34m0\u001b[0m]       │\n",
       "├─────────────────────┼───────────────────┼────────────┼───────────────────┤\n",
       "│ conv1d_3 (\u001b[38;5;33mConv1D\u001b[0m)   │ (\u001b[38;5;45mNone\u001b[0m, \u001b[38;5;34m7055\u001b[0m, \u001b[38;5;34m64\u001b[0m)  │     \u001b[38;5;34m41,024\u001b[0m │ multiply[\u001b[38;5;34m0\u001b[0m][\u001b[38;5;34m0\u001b[0m]    │\n",
       "├─────────────────────┼───────────────────┼────────────┼───────────────────┤\n",
       "│ up_sampling1d       │ (\u001b[38;5;45mNone\u001b[0m, \u001b[38;5;34m14110\u001b[0m, \u001b[38;5;34m64\u001b[0m) │          \u001b[38;5;34m0\u001b[0m │ conv1d_3[\u001b[38;5;34m0\u001b[0m][\u001b[38;5;34m0\u001b[0m]    │\n",
       "│ (\u001b[38;5;33mUpSampling1D\u001b[0m)      │                   │            │                   │\n",
       "├─────────────────────┼───────────────────┼────────────┼───────────────────┤\n",
       "│ conv1d_4 (\u001b[38;5;33mConv1D\u001b[0m)   │ (\u001b[38;5;45mNone\u001b[0m, \u001b[38;5;34m14110\u001b[0m, \u001b[38;5;34m32\u001b[0m) │     \u001b[38;5;34m10,272\u001b[0m │ up_sampling1d[\u001b[38;5;34m0\u001b[0m]… │\n",
       "├─────────────────────┼───────────────────┼────────────┼───────────────────┤\n",
       "│ up_sampling1d_1     │ (\u001b[38;5;45mNone\u001b[0m, \u001b[38;5;34m28220\u001b[0m, \u001b[38;5;34m32\u001b[0m) │          \u001b[38;5;34m0\u001b[0m │ conv1d_4[\u001b[38;5;34m0\u001b[0m][\u001b[38;5;34m0\u001b[0m]    │\n",
       "│ (\u001b[38;5;33mUpSampling1D\u001b[0m)      │                   │            │                   │\n",
       "├─────────────────────┼───────────────────┼────────────┼───────────────────┤\n",
       "│ conv1d_5 (\u001b[38;5;33mConv1D\u001b[0m)   │ (\u001b[38;5;45mNone\u001b[0m, \u001b[38;5;34m28220\u001b[0m, \u001b[38;5;34m3\u001b[0m)  │        \u001b[38;5;34m483\u001b[0m │ up_sampling1d_1[\u001b[38;5;34m…\u001b[0m │\n",
       "└─────────────────────┴───────────────────┴────────────┴───────────────────┘\n"
      ]
     },
     "metadata": {},
     "output_type": "display_data"
    },
    {
     "data": {
      "text/html": [
       "<pre style=\"white-space:pre;overflow-x:auto;line-height:normal;font-family:Menlo,'DejaVu Sans Mono',consolas,'Courier New',monospace\"><span style=\"font-weight: bold\"> Total params: </span><span style=\"color: #00af00; text-decoration-color: #00af00\">120,195</span> (469.51 KB)\n",
       "</pre>\n"
      ],
      "text/plain": [
       "\u001b[1m Total params: \u001b[0m\u001b[38;5;34m120,195\u001b[0m (469.51 KB)\n"
      ]
     },
     "metadata": {},
     "output_type": "display_data"
    },
    {
     "data": {
      "text/html": [
       "<pre style=\"white-space:pre;overflow-x:auto;line-height:normal;font-family:Menlo,'DejaVu Sans Mono',consolas,'Courier New',monospace\"><span style=\"font-weight: bold\"> Trainable params: </span><span style=\"color: #00af00; text-decoration-color: #00af00\">120,195</span> (469.51 KB)\n",
       "</pre>\n"
      ],
      "text/plain": [
       "\u001b[1m Trainable params: \u001b[0m\u001b[38;5;34m120,195\u001b[0m (469.51 KB)\n"
      ]
     },
     "metadata": {},
     "output_type": "display_data"
    },
    {
     "data": {
      "text/html": [
       "<pre style=\"white-space:pre;overflow-x:auto;line-height:normal;font-family:Menlo,'DejaVu Sans Mono',consolas,'Courier New',monospace\"><span style=\"font-weight: bold\"> Non-trainable params: </span><span style=\"color: #00af00; text-decoration-color: #00af00\">0</span> (0.00 B)\n",
       "</pre>\n"
      ],
      "text/plain": [
       "\u001b[1m Non-trainable params: \u001b[0m\u001b[38;5;34m0\u001b[0m (0.00 B)\n"
      ]
     },
     "metadata": {},
     "output_type": "display_data"
    }
   ],
   "source": [
    "# Compilar el modelo\n",
    "attention_model.compile(optimizer='adam', loss='categorical_crossentropy', metrics=['accuracy'])\n",
    "attention_model.summary()"
   ]
  },
  {
   "cell_type": "code",
   "execution_count": 11,
   "metadata": {},
   "outputs": [],
   "source": [
    "\n",
    "# Definir DataGenerator\n",
    "class DataGenerator(tf.keras.utils.Sequence):\n",
    "    def __init__(self, batch_size, x_dataset, missing_perc=0.1, shuffle=True):\n",
    "        self.batch_size = batch_size\n",
    "        self.x = x_dataset\n",
    "        self.missing_perc = missing_perc\n",
    "        self.shuffle = shuffle\n",
    "        self.on_epoch_end()\n",
    "\n",
    "    def __len__(self):\n",
    "        return int(np.floor(self.x.shape[0] / self.batch_size))\n",
    "\n",
    "    def __getitem__(self, index):\n",
    "        indexes = self.indexes[index * self.batch_size:(\n",
    "            index + 1) * self.batch_size]\n",
    "        self.x_missing = self.x[indexes].copy()\n",
    "\n",
    "        for i in range(self.x_missing.shape[0]):\n",
    "            missing_size = int(self.missing_perc * self.x_missing.shape[1])\n",
    "            missing_index = np.random.randint(\n",
    "                self.x_missing.shape[1], size=missing_size)\n",
    "            self.x_missing[i, missing_index, :] = [1, 0, 0]\n",
    "\n",
    "        return self.x_missing, self.x[indexes]\n",
    "\n",
    "    def on_epoch_end(self):\n",
    "        self.indexes = np.arange(self.x.shape[0])\n",
    "        if self.shuffle == True:\n",
    "            np.random.shuffle(self.indexes)"
   ]
  },
  {
   "cell_type": "code",
   "execution_count": 12,
   "metadata": {},
   "outputs": [],
   "source": [
    "\n",
    "# Generacion data\n",
    "train_generator = DataGenerator(batch_size=batch_size, x_dataset=train_X, missing_perc=0.1)\n",
    "valid_generator = DataGenerator(batch_size=batch_size, x_dataset=valid_X, missing_perc=0.1)\n"
   ]
  },
  {
   "cell_type": "code",
   "execution_count": 13,
   "metadata": {},
   "outputs": [],
   "source": [
    "import keras\n",
    "from keras.callbacks import EarlyStopping, ModelCheckpoint\n",
    "# early stopping call back con val_loss monitoring\n",
    "EarlyStopping = keras.callbacks.EarlyStopping(\n",
    "    monitor='val_loss',\n",
    "    min_delta=0,\n",
    "    patience=10,\n",
    "    verbose=0,\n",
    "    mode='auto',\n",
    "    baseline=None,\n",
    "    restore_best_weights=True)"
   ]
  },
  {
   "cell_type": "code",
   "execution_count": 14,
   "metadata": {},
   "outputs": [
    {
     "name": "stdout",
     "output_type": "stream",
     "text": [
      "Epoch 1/10\n"
     ]
    },
    {
     "name": "stderr",
     "output_type": "stream",
     "text": [
      "/Users/celiacabello/miniconda3/envs/TFM/lib/python3.11/site-packages/keras/src/trainers/data_adapters/py_dataset_adapter.py:122: UserWarning: Your `PyDataset` class should call `super().__init__(**kwargs)` in its constructor. `**kwargs` can include `workers`, `use_multiprocessing`, `max_queue_size`. Do not pass these arguments to `fit()`, as they will be ignored.\n",
      "  self._warn_if_super_not_called()\n"
     ]
    },
    {
     "name": "stdout",
     "output_type": "stream",
     "text": [
      "\u001b[1m87/87\u001b[0m \u001b[32m━━━━━━━━━━━━━━━━━━━━\u001b[0m\u001b[37m\u001b[0m \u001b[1m80s\u001b[0m 905ms/step - accuracy: 0.5489 - loss: 1.1432 - val_accuracy: 0.9991 - val_loss: 0.0881\n",
      "Epoch 2/10\n",
      "\u001b[1m87/87\u001b[0m \u001b[32m━━━━━━━━━━━━━━━━━━━━\u001b[0m\u001b[37m\u001b[0m \u001b[1m78s\u001b[0m 890ms/step - accuracy: 0.9980 - loss: 0.0723 - val_accuracy: 0.9994 - val_loss: 0.0445\n",
      "Epoch 3/10\n",
      "\u001b[1m87/87\u001b[0m \u001b[32m━━━━━━━━━━━━━━━━━━━━\u001b[0m\u001b[37m\u001b[0m \u001b[1m77s\u001b[0m 884ms/step - accuracy: 0.9982 - loss: 0.0425 - val_accuracy: 0.9993 - val_loss: 0.0338\n",
      "Epoch 4/10\n",
      "\u001b[1m87/87\u001b[0m \u001b[32m━━━━━━━━━━━━━━━━━━━━\u001b[0m\u001b[37m\u001b[0m \u001b[1m72s\u001b[0m 825ms/step - accuracy: 0.9983 - loss: 0.0332 - val_accuracy: 0.9994 - val_loss: 0.0275\n",
      "Epoch 5/10\n",
      "\u001b[1m87/87\u001b[0m \u001b[32m━━━━━━━━━━━━━━━━━━━━\u001b[0m\u001b[37m\u001b[0m \u001b[1m74s\u001b[0m 849ms/step - accuracy: 0.9984 - loss: 0.0274 - val_accuracy: 0.9994 - val_loss: 0.0231\n",
      "Epoch 6/10\n",
      "\u001b[1m87/87\u001b[0m \u001b[32m━━━━━━━━━━━━━━━━━━━━\u001b[0m\u001b[37m\u001b[0m \u001b[1m73s\u001b[0m 841ms/step - accuracy: 0.9985 - loss: 0.0234 - val_accuracy: 0.9995 - val_loss: 0.0200\n",
      "Epoch 7/10\n",
      "\u001b[1m87/87\u001b[0m \u001b[32m━━━━━━━━━━━━━━━━━━━━\u001b[0m\u001b[37m\u001b[0m \u001b[1m73s\u001b[0m 839ms/step - accuracy: 0.9986 - loss: 0.0203 - val_accuracy: 0.9995 - val_loss: 0.0175\n",
      "Epoch 8/10\n",
      "\u001b[1m87/87\u001b[0m \u001b[32m━━━━━━━━━━━━━━━━━━━━\u001b[0m\u001b[37m\u001b[0m \u001b[1m73s\u001b[0m 841ms/step - accuracy: 0.9987 - loss: 0.0180 - val_accuracy: 0.9995 - val_loss: 0.0156\n",
      "Epoch 9/10\n",
      "\u001b[1m87/87\u001b[0m \u001b[32m━━━━━━━━━━━━━━━━━━━━\u001b[0m\u001b[37m\u001b[0m \u001b[1m73s\u001b[0m 843ms/step - accuracy: 0.9987 - loss: 0.0161 - val_accuracy: 0.9995 - val_loss: 0.0141\n",
      "Epoch 10/10\n",
      "\u001b[1m87/87\u001b[0m \u001b[32m━━━━━━━━━━━━━━━━━━━━\u001b[0m\u001b[37m\u001b[0m \u001b[1m74s\u001b[0m 846ms/step - accuracy: 0.9988 - loss: 0.0146 - val_accuracy: 0.9995 - val_loss: 0.0130\n"
     ]
    }
   ],
   "source": [
    "attention_model_train = attention_model.fit(\n",
    "    x=train_generator,\n",
    "    epochs=epochs,\n",
    "    verbose=1,\n",
    "    validation_data=valid_generator,\n",
    "    callbacks= [EarlyStopping]\n",
    "    \n",
    ")"
   ]
  },
  {
   "cell_type": "markdown",
   "metadata": {},
   "source": [
    "### plotting"
   ]
  },
  {
   "cell_type": "code",
   "execution_count": 15,
   "metadata": {},
   "outputs": [
    {
     "name": "stderr",
     "output_type": "stream",
     "text": [
      "/var/folders/rx/6l7qymcs6md_xt6rzyf70x040000gn/T/ipykernel_14521/2942292309.py:6: UserWarning: color is redundantly defined by the 'color' keyword argument and the fmt string \"b\" (-> color=(0.0, 0.0, 1.0, 1)). The keyword argument will take precedence.\n",
      "  plt.plot(range(len(loss)), loss,'b', label='Training loss', color=\"black\")\n"
     ]
    },
    {
     "data": {
      "image/png": "[encoded data removed]",
      "text/plain": [
       "<Figure size 640x480 with 1 Axes>"
      ]
     },
     "metadata": {},
     "output_type": "display_data"
    }
   ],
   "source": [
    "# plot loss \n",
    "loss = attention_model_train.history['loss']\n",
    "val_loss = attention_model_train.history['val_loss']\n",
    "\n",
    "plt.figure()\n",
    "plt.plot(range(len(loss)), loss,'b', label='Training loss', color=\"black\")\n",
    "plt.plot(range(len(val_loss)), val_loss, 'b', label='Validation loss')\n",
    "plt.title('Training and validation loss')\n",
    "plt.legend()\n",
    "plt.show()"
   ]
  },
  {
   "cell_type": "code",
   "execution_count": 16,
   "metadata": {},
   "outputs": [
    {
     "name": "stdout",
     "output_type": "stream",
     "text": [
      "dict_keys(['accuracy', 'loss', 'val_accuracy', 'val_loss'])\n"
     ]
    },
    {
     "name": "stderr",
     "output_type": "stream",
     "text": [
      "/var/folders/rx/6l7qymcs6md_xt6rzyf70x040000gn/T/ipykernel_14521/3539571467.py:6: UserWarning: color is redundantly defined by the 'color' keyword argument and the fmt string \"b\" (-> color=(0.0, 0.0, 1.0, 1)). The keyword argument will take precedence.\n",
      "  plt.plot(range(len(acc)), acc, 'b', label='Training acc', color=\"black\")\n",
      "/var/folders/rx/6l7qymcs6md_xt6rzyf70x040000gn/T/ipykernel_14521/3539571467.py:7: UserWarning: color is redundantly defined by the 'color' keyword argument and the fmt string \"b\" (-> color=(0.0, 0.0, 1.0, 1)). The keyword argument will take precedence.\n",
      "  plt.plot(range(len(val_acc)), val_acc, 'b', label='Validation acc',color=\"blue\")\n"
     ]
    },
    {
     "data": {
      "image/png": "[encoded data removed]",
      "text/plain": [
       "<Figure size 640x480 with 1 Axes>"
      ]
     },
     "metadata": {},
     "output_type": "display_data"
    }
   ],
   "source": [
    "\n",
    "# plot accuracy \n",
    "print(attention_model_train.history.keys())\n",
    "acc = attention_model_train.history['accuracy'] \n",
    "val_acc = attention_model_train.history['val_accuracy']\n",
    "plt.figure()\n",
    "plt.plot(range(len(acc)), acc, 'b', label='Training acc', color=\"black\")\n",
    "plt.plot(range(len(val_acc)), val_acc, 'b', label='Validation acc',color=\"blue\")\n",
    "plt.title('Training and validation acc')\n",
    "plt.legend()\n",
    "plt.show()"
   ]
  },
  {
   "cell_type": "code",
   "execution_count": 17,
   "metadata": {},
   "outputs": [
    {
     "name": "stdout",
     "output_type": "stream",
     "text": [
      "Final Training Loss: 0.014362399466335773\n",
      "Final Validation Loss: 0.012950964272022247\n",
      "Final Training Accuracy: 0.9987982511520386\n",
      "Final Validation Accuracy: 0.9995120763778687\n"
     ]
    }
   ],
   "source": [
    "print(\"Final Training Loss:\", loss[-1])\n",
    "print(\"Final Validation Loss:\", val_loss[-1])\n",
    "print(\"Final Training Accuracy:\", acc[-1])\n",
    "print(\"Final Validation Accuracy:\", val_acc[-1])"
   ]
  },
  {
   "cell_type": "markdown",
   "metadata": {},
   "source": [
    "### Training"
   ]
  },
  {
   "cell_type": "markdown",
   "metadata": {},
   "source": [
    "### TESTING"
   ]
  },
  {
   "cell_type": "code",
   "execution_count": 18,
   "metadata": {},
   "outputs": [
    {
     "data": {
      "text/plain": [
       "(877, 28220, 3)"
      ]
     },
     "execution_count": 18,
     "metadata": {},
     "output_type": "execute_result"
    }
   ],
   "source": [
    "# path de descompresión\n",
    "zip_file_train= '../data/raw/yeast_genotype_test.txt.zip'\n",
    "# Llamar a la función para descomprimir y guardar los DataFrames en variable globale\n",
    "unzip(zip_file_train, 'df_test') \n",
    "test_X = to_categorical(df_test)\n",
    "test_X.shape"
   ]
  },
  {
   "cell_type": "code",
   "execution_count": 19,
   "metadata": {},
   "outputs": [
    {
     "name": "stdout",
     "output_type": "stream",
     "text": [
      "\u001b[1m28/28\u001b[0m \u001b[32m━━━━━━━━━━━━━━━━━━━━\u001b[0m\u001b[37m\u001b[0m \u001b[1m6s\u001b[0m 194ms/step\n",
      "\u001b[1m28/28\u001b[0m \u001b[32m━━━━━━━━━━━━━━━━━━━━\u001b[0m\u001b[37m\u001b[0m \u001b[1m5s\u001b[0m 188ms/step\n",
      "\u001b[1m28/28\u001b[0m \u001b[32m━━━━━━━━━━━━━━━━━━━━\u001b[0m\u001b[37m\u001b[0m \u001b[1m5s\u001b[0m 186ms/step\n",
      "\u001b[1m28/28\u001b[0m \u001b[32m━━━━━━━━━━━━━━━━━━━━\u001b[0m\u001b[37m\u001b[0m \u001b[1m5s\u001b[0m 189ms/step\n"
     ]
    }
   ],
   "source": [
    "import numpy as np\n",
    "\n",
    "# Porcentajes de pérdida\n",
    "missing_perc_list = [0.1, 0.2, 0.3, 0.4]\n",
    "\n",
    "# Función para calcular la probabilidad de los genotipos 0, 1, 2\n",
    "def cal_prob(predict_missing_onehot):\n",
    "    predict_prob = predict_missing_onehot[:,:,1:3] / predict_missing_onehot[:,:,1:3].sum(axis=2, keepdims=True)\n",
    "    return predict_prob\n",
    "\n",
    "# Diccionario para almacenar los resultados de precisión por cada porcentaje\n",
    "accuracy_summary = {}\n",
    "\n",
    "# Iterar sobre los porcentajes de datos faltantes\n",
    "for missing_perc in missing_perc_list:\n",
    "    avg_accuracy = []\n",
    "    \n",
    "    # Generar índices faltantes de una vez para todas las muestras\n",
    "    num_samples = test_X.shape[0]\n",
    "    missing_indices = [np.random.randint(test_X.shape[1], size=int(missing_perc * test_X.shape[1])) for _ in range(num_samples)]\n",
    "    \n",
    "    # Generar la matriz con datos faltantes en un solo paso\n",
    "    test_X_missing = test_X.copy()\n",
    "    for i in range(num_samples):\n",
    "        test_X_missing[i, missing_indices[i], :] = [1, 0, 0]  # Generar genotipos faltantes\n",
    "    \n",
    "    # Predecir utilizando el modelo entrenado en lotes en lugar de predicciones individuales\n",
    "    predict_onehot = attention_model.predict(test_X_missing, batch_size=32)  # Ajustar el tamaño del batch si es necesario\n",
    "    \n",
    "    # Iterar sobre cada muestra para calcular las precisiones\n",
    "    for i in range(num_samples):\n",
    "        # Solo se consideran las posiciones faltantes\n",
    "        predict_missing_onehot = predict_onehot[i:i + 1, missing_indices[i], :]\n",
    "        \n",
    "        # Predicción de la etiqueta\n",
    "        predict_missing = np.argmax(predict_missing_onehot, axis=2)\n",
    "\n",
    "        # Etiqueta real\n",
    "        label_missing_onehot = test_X[i:i + 1, missing_indices[i], :]\n",
    "        label_missing = np.argmax(label_missing_onehot, axis=2)\n",
    "\n",
    "        # Calcular la precisión\n",
    "        correct_prediction = np.equal(predict_missing, label_missing)\n",
    "        accuracy = np.mean(correct_prediction)\n",
    "        avg_accuracy.append(accuracy)\n",
    "\n",
    "    # Guardar la precisión promedio para el porcentaje actual\n",
    "    accuracy_summary[missing_perc] = np.mean(avg_accuracy)"
   ]
  },
  {
   "cell_type": "code",
   "execution_count": 20,
   "metadata": {},
   "outputs": [
    {
     "name": "stdout",
     "output_type": "stream",
     "text": [
      "\n",
      "=== Resumen de precisión promedio por porcentaje de pérdida ===\n",
      "Porcentaje de pérdida: 10.0%, Precisión promedio: 0.9979\n",
      "Porcentaje de pérdida: 20.0%, Precisión promedio: 0.9977\n",
      "Porcentaje de pérdida: 30.0%, Precisión promedio: 0.9976\n",
      "Porcentaje de pérdida: 40.0%, Precisión promedio: 0.9974\n"
     ]
    }
   ],
   "source": [
    "# Mostrar el resumen de las precisiones promedio\n",
    "print(\"\\n=== Resumen de precisión promedio por porcentaje de pérdida ===\")\n",
    "for perc, acc in accuracy_summary.items():\n",
    "    print(f'Porcentaje de pérdida: {perc * 100}%, Precisión promedio: {acc:.4f}')"
   ]
  }
 ],
 "metadata": {
  "kernelspec": {
   "display_name": "TFM",
   "language": "python",
   "name": "python3"
  },
  "language_info": {
   "codemirror_mode": {
    "name": "ipython",
    "version": 3
   },
   "file_extension": ".py",
   "mimetype": "text/x-python",
   "name": "python",
   "nbconvert_exporter": "python",
   "pygments_lexer": "ipython3",
   "version": "3.11.8"
  }
 },
 "nbformat": 4,
 "nbformat_minor": 2
}
