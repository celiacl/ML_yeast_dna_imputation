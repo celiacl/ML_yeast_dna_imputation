{
 "cells": [
  {
   "cell_type": "markdown",
   "metadata": {},
   "source": [
    "<h1>Sparse Convolutional Denoising Autoencoders for Genotype Imputation <span class=\"tocSkip\"></span></h1>"
   ]
  },
  {
   "cell_type": "markdown",
   "metadata": {},
   "source": [
    "### ORIGINAL CODE FROM https://github.com/work-hard-play-harder/SCDA. Just change versiones of libraries or functions names wich have changed"
   ]
  },
  {
   "cell_type": "markdown",
   "metadata": {
    "toc": true
   },
   "source": [
    "<h1>Table of Contents<span class=\"tocSkip\"></span></h1>\n",
    "<div class=\"toc\"><ul class=\"toc-item\"><li><span><a href=\"#Introduction\" data-toc-modified-id=\"Introduction-1\"><span class=\"toc-item-num\">1&nbsp;&nbsp;</span>Introduction</a></span></li><li><span><a href=\"#Dataset\" data-toc-modified-id=\"Dataset-2\"><span class=\"toc-item-num\">2&nbsp;&nbsp;</span>Dataset</a></span><ul class=\"toc-item\"><li><span><a href=\"#Loading-data\" data-toc-modified-id=\"Loading-data-2.1\"><span class=\"toc-item-num\">2.1&nbsp;&nbsp;</span>Loading data</a></span></li><li><span><a href=\"#Preprocessing\" data-toc-modified-id=\"Preprocessing-2.2\"><span class=\"toc-item-num\">2.2&nbsp;&nbsp;</span>Preprocessing</a></span></li></ul></li><li><span><a href=\"#Method\" data-toc-modified-id=\"Method-3\"><span class=\"toc-item-num\">3&nbsp;&nbsp;</span>Method</a></span><ul class=\"toc-item\"><li><span><a href=\"#Load-model\" data-toc-modified-id=\"Load-model-3.1\"><span class=\"toc-item-num\">3.1&nbsp;&nbsp;</span>Load model</a></span></li><li><span><a href=\"#Prediction-on-test-data\" data-toc-modified-id=\"Prediction-on-test-data-3.2\"><span class=\"toc-item-num\">3.2&nbsp;&nbsp;</span>Prediction on test data</a></span></li></ul></li></ul></div>"
   ]
  },
  {
   "cell_type": "markdown",
   "metadata": {},
   "source": [
    "# Introduction\n",
    "\n",
    "This notebook demonstrates a case study of testing a SCDA model on yeast genotype dataset with 10% missing genotypes. "
   ]
  },
  {
   "cell_type": "code",
   "execution_count": 1,
   "metadata": {},
   "outputs": [],
   "source": [
    "import numpy as np\n",
    "import pandas as pd\n",
    "from sklearn.model_selection import train_test_split\n",
    "\n",
    "from tensorflow import keras\n",
    "from tensorflow.keras.models import Sequential\n",
    "from tensorflow.keras.layers import Conv1D, MaxPooling1D, UpSampling1D, Dropout\n",
    "from tensorflow.keras.regularizers import l1\n",
    "from tensorflow.keras.utils import to_categorical\n",
    "\n",
    "from tensorflow.keras.models import load_model\n",
    "import zipfile\n",
    "import builtins \n",
    "import matplotlib.pyplot as plt"
   ]
  },
  {
   "cell_type": "markdown",
   "metadata": {},
   "source": [
    "# Dataset"
   ]
  },
  {
   "cell_type": "markdown",
   "metadata": {},
   "source": [
    "## Loading data"
   ]
  },
  {
   "cell_type": "code",
   "execution_count": 2,
   "metadata": {},
   "outputs": [],
   "source": [
    "def unzip(archivo_zip, variable_name):\n",
    "    \"\"\"\n",
    "    Extrae y carga el contenido del único archivo dentro de un ZIP en una variable global.\n",
    "    \n",
    "    Parámetros:\n",
    "    - archivo_zip: Ruta al archivo ZIP.\n",
    "    - variable_name: Nombre de la variable global donde se guardará el DataFrame.\n",
    "    \"\"\"\n",
    "    with zipfile.ZipFile(archivo_zip, 'r') as zip_ref:\n",
    "        # Obtiene directamente el primer (y único) archivo\n",
    "        file_name = zip_ref.namelist()[0]\n",
    "        with zip_ref.open(file_name) as txt_file:\n",
    "            # Leer el archivo como un DataFrame de pandas\n",
    "            df = pd.read_csv(txt_file, sep='\\t', index_col=0)\n",
    "            \n",
    "            # Asignar el DataFrame a una variable global con el nombre proporcionado\n",
    "            builtins.__dict__[variable_name] = df\n",
    "\n",
    "\n",
    "# Llamar a la función para descomprimir y guardar el df en variable globale\n",
    "unzip('../../data/raw/yeast_genotype_test.txt.zip', 'df_ori') "
   ]
  },
  {
   "cell_type": "code",
   "execution_count": 3,
   "metadata": {
    "scrolled": false
   },
   "outputs": [
    {
     "data": {
      "text/html": [
       "<div>\n",
       "<style scoped>\n",
       "    .dataframe tbody tr th:only-of-type {\n",
       "        vertical-align: middle;\n",
       "    }\n",
       "\n",
       "    .dataframe tbody tr th {\n",
       "        vertical-align: top;\n",
       "    }\n",
       "\n",
       "    .dataframe thead th {\n",
       "        text-align: right;\n",
       "    }\n",
       "</style>\n",
       "<table border=\"1\" class=\"dataframe\">\n",
       "  <thead>\n",
       "    <tr style=\"text-align: right;\">\n",
       "      <th></th>\n",
       "      <th>33070_chrI_33070_A_T</th>\n",
       "      <th>33147_chrI_33147_G_T</th>\n",
       "      <th>33152_chrI_33152_T_C</th>\n",
       "      <th>33200_chrI_33200_C_T</th>\n",
       "      <th>33293_chrI_33293_A_T</th>\n",
       "      <th>33328_chrI_33328_C_A</th>\n",
       "      <th>33348_chrI_33348_G_C</th>\n",
       "      <th>33403_chrI_33403_C_T</th>\n",
       "      <th>33502_chrI_33502_A_G</th>\n",
       "      <th>33548_chrI_33548_A_C</th>\n",
       "      <th>...</th>\n",
       "      <th>12048853_chrXVI_925593_G_C</th>\n",
       "      <th>12049199_chrXVI_925939_T_C</th>\n",
       "      <th>12049441_chrXVI_926181_C_T</th>\n",
       "      <th>12050613_chrXVI_927353_T_G</th>\n",
       "      <th>12051167_chrXVI_927907_A_C</th>\n",
       "      <th>12051240_chrXVI_927980_A_G</th>\n",
       "      <th>12051367_chrXVI_928107_C_T</th>\n",
       "      <th>12052782_chrXVI_929522_C_T</th>\n",
       "      <th>12052988_chrXVI_929728_A_G</th>\n",
       "      <th>12053130_chrXVI_929870_C_T</th>\n",
       "    </tr>\n",
       "    <tr>\n",
       "      <th>SAMID</th>\n",
       "      <th></th>\n",
       "      <th></th>\n",
       "      <th></th>\n",
       "      <th></th>\n",
       "      <th></th>\n",
       "      <th></th>\n",
       "      <th></th>\n",
       "      <th></th>\n",
       "      <th></th>\n",
       "      <th></th>\n",
       "      <th></th>\n",
       "      <th></th>\n",
       "      <th></th>\n",
       "      <th></th>\n",
       "      <th></th>\n",
       "      <th></th>\n",
       "      <th></th>\n",
       "      <th></th>\n",
       "      <th></th>\n",
       "      <th></th>\n",
       "      <th></th>\n",
       "    </tr>\n",
       "  </thead>\n",
       "  <tbody>\n",
       "    <tr>\n",
       "      <th>40_73</th>\n",
       "      <td>1</td>\n",
       "      <td>1</td>\n",
       "      <td>1</td>\n",
       "      <td>1</td>\n",
       "      <td>1</td>\n",
       "      <td>1</td>\n",
       "      <td>1</td>\n",
       "      <td>1</td>\n",
       "      <td>1</td>\n",
       "      <td>1</td>\n",
       "      <td>...</td>\n",
       "      <td>2</td>\n",
       "      <td>2</td>\n",
       "      <td>2</td>\n",
       "      <td>2</td>\n",
       "      <td>2</td>\n",
       "      <td>2</td>\n",
       "      <td>2</td>\n",
       "      <td>2</td>\n",
       "      <td>2</td>\n",
       "      <td>2</td>\n",
       "    </tr>\n",
       "    <tr>\n",
       "      <th>40_74</th>\n",
       "      <td>1</td>\n",
       "      <td>1</td>\n",
       "      <td>1</td>\n",
       "      <td>1</td>\n",
       "      <td>1</td>\n",
       "      <td>1</td>\n",
       "      <td>1</td>\n",
       "      <td>1</td>\n",
       "      <td>1</td>\n",
       "      <td>1</td>\n",
       "      <td>...</td>\n",
       "      <td>1</td>\n",
       "      <td>1</td>\n",
       "      <td>1</td>\n",
       "      <td>1</td>\n",
       "      <td>1</td>\n",
       "      <td>1</td>\n",
       "      <td>1</td>\n",
       "      <td>1</td>\n",
       "      <td>1</td>\n",
       "      <td>1</td>\n",
       "    </tr>\n",
       "    <tr>\n",
       "      <th>40_75</th>\n",
       "      <td>2</td>\n",
       "      <td>2</td>\n",
       "      <td>2</td>\n",
       "      <td>2</td>\n",
       "      <td>2</td>\n",
       "      <td>2</td>\n",
       "      <td>2</td>\n",
       "      <td>2</td>\n",
       "      <td>2</td>\n",
       "      <td>2</td>\n",
       "      <td>...</td>\n",
       "      <td>1</td>\n",
       "      <td>1</td>\n",
       "      <td>1</td>\n",
       "      <td>1</td>\n",
       "      <td>1</td>\n",
       "      <td>1</td>\n",
       "      <td>1</td>\n",
       "      <td>1</td>\n",
       "      <td>1</td>\n",
       "      <td>1</td>\n",
       "    </tr>\n",
       "    <tr>\n",
       "      <th>40_76</th>\n",
       "      <td>2</td>\n",
       "      <td>2</td>\n",
       "      <td>2</td>\n",
       "      <td>2</td>\n",
       "      <td>2</td>\n",
       "      <td>2</td>\n",
       "      <td>2</td>\n",
       "      <td>2</td>\n",
       "      <td>2</td>\n",
       "      <td>2</td>\n",
       "      <td>...</td>\n",
       "      <td>2</td>\n",
       "      <td>2</td>\n",
       "      <td>2</td>\n",
       "      <td>2</td>\n",
       "      <td>2</td>\n",
       "      <td>2</td>\n",
       "      <td>2</td>\n",
       "      <td>2</td>\n",
       "      <td>2</td>\n",
       "      <td>2</td>\n",
       "    </tr>\n",
       "    <tr>\n",
       "      <th>40_77</th>\n",
       "      <td>1</td>\n",
       "      <td>1</td>\n",
       "      <td>1</td>\n",
       "      <td>1</td>\n",
       "      <td>1</td>\n",
       "      <td>1</td>\n",
       "      <td>1</td>\n",
       "      <td>1</td>\n",
       "      <td>1</td>\n",
       "      <td>1</td>\n",
       "      <td>...</td>\n",
       "      <td>2</td>\n",
       "      <td>2</td>\n",
       "      <td>2</td>\n",
       "      <td>2</td>\n",
       "      <td>2</td>\n",
       "      <td>2</td>\n",
       "      <td>2</td>\n",
       "      <td>2</td>\n",
       "      <td>2</td>\n",
       "      <td>2</td>\n",
       "    </tr>\n",
       "  </tbody>\n",
       "</table>\n",
       "<p>5 rows × 28220 columns</p>\n",
       "</div>"
      ],
      "text/plain": [
       "       33070_chrI_33070_A_T  33147_chrI_33147_G_T  33152_chrI_33152_T_C  \\\n",
       "SAMID                                                                     \n",
       "40_73                     1                     1                     1   \n",
       "40_74                     1                     1                     1   \n",
       "40_75                     2                     2                     2   \n",
       "40_76                     2                     2                     2   \n",
       "40_77                     1                     1                     1   \n",
       "\n",
       "       33200_chrI_33200_C_T  33293_chrI_33293_A_T  33328_chrI_33328_C_A  \\\n",
       "SAMID                                                                     \n",
       "40_73                     1                     1                     1   \n",
       "40_74                     1                     1                     1   \n",
       "40_75                     2                     2                     2   \n",
       "40_76                     2                     2                     2   \n",
       "40_77                     1                     1                     1   \n",
       "\n",
       "       33348_chrI_33348_G_C  33403_chrI_33403_C_T  33502_chrI_33502_A_G  \\\n",
       "SAMID                                                                     \n",
       "40_73                     1                     1                     1   \n",
       "40_74                     1                     1                     1   \n",
       "40_75                     2                     2                     2   \n",
       "40_76                     2                     2                     2   \n",
       "40_77                     1                     1                     1   \n",
       "\n",
       "       33548_chrI_33548_A_C  ...  12048853_chrXVI_925593_G_C  \\\n",
       "SAMID                        ...                               \n",
       "40_73                     1  ...                           2   \n",
       "40_74                     1  ...                           1   \n",
       "40_75                     2  ...                           1   \n",
       "40_76                     2  ...                           2   \n",
       "40_77                     1  ...                           2   \n",
       "\n",
       "       12049199_chrXVI_925939_T_C  12049441_chrXVI_926181_C_T  \\\n",
       "SAMID                                                           \n",
       "40_73                           2                           2   \n",
       "40_74                           1                           1   \n",
       "40_75                           1                           1   \n",
       "40_76                           2                           2   \n",
       "40_77                           2                           2   \n",
       "\n",
       "       12050613_chrXVI_927353_T_G  12051167_chrXVI_927907_A_C  \\\n",
       "SAMID                                                           \n",
       "40_73                           2                           2   \n",
       "40_74                           1                           1   \n",
       "40_75                           1                           1   \n",
       "40_76                           2                           2   \n",
       "40_77                           2                           2   \n",
       "\n",
       "       12051240_chrXVI_927980_A_G  12051367_chrXVI_928107_C_T  \\\n",
       "SAMID                                                           \n",
       "40_73                           2                           2   \n",
       "40_74                           1                           1   \n",
       "40_75                           1                           1   \n",
       "40_76                           2                           2   \n",
       "40_77                           2                           2   \n",
       "\n",
       "       12052782_chrXVI_929522_C_T  12052988_chrXVI_929728_A_G  \\\n",
       "SAMID                                                           \n",
       "40_73                           2                           2   \n",
       "40_74                           1                           1   \n",
       "40_75                           1                           1   \n",
       "40_76                           2                           2   \n",
       "40_77                           2                           2   \n",
       "\n",
       "       12053130_chrXVI_929870_C_T  \n",
       "SAMID                              \n",
       "40_73                           2  \n",
       "40_74                           1  \n",
       "40_75                           1  \n",
       "40_76                           2  \n",
       "40_77                           2  \n",
       "\n",
       "[5 rows x 28220 columns]"
      ]
     },
     "execution_count": 3,
     "metadata": {},
     "output_type": "execute_result"
    }
   ],
   "source": [
    "df_ori.head()"
   ]
  },
  {
   "cell_type": "markdown",
   "metadata": {},
   "source": [
    "## Preprocessing"
   ]
  },
  {
   "cell_type": "code",
   "execution_count": 4,
   "metadata": {},
   "outputs": [
    {
     "data": {
      "text/plain": [
       "(877, 28220, 3)"
      ]
     },
     "execution_count": 4,
     "metadata": {},
     "output_type": "execute_result"
    }
   ],
   "source": [
    "# one hot encode\n",
    "test_X = to_categorical(df_ori)\n",
    "test_X.shape"
   ]
  },
  {
   "cell_type": "markdown",
   "metadata": {},
   "source": [
    "# Method"
   ]
  },
  {
   "cell_type": "markdown",
   "metadata": {},
   "source": [
    "## Load model"
   ]
  },
  {
   "cell_type": "code",
   "execution_count": 5,
   "metadata": {},
   "outputs": [],
   "source": [
    "# returns a compiled model\n",
    "SCDA = load_model('../../models/SDCA_original/SDCA_yeast.keras')"
   ]
  },
  {
   "cell_type": "markdown",
   "metadata": {},
   "source": [
    "## Prediction on test data"
   ]
  },
  {
   "cell_type": "code",
   "execution_count": 6,
   "metadata": {},
   "outputs": [],
   "source": [
    "# hyperparameters\n",
    "missing_perc = 0.1"
   ]
  },
  {
   "cell_type": "code",
   "execution_count": 7,
   "metadata": {},
   "outputs": [
    {
     "data": {
      "text/plain": [
       "(877, 28220, 3)"
      ]
     },
     "execution_count": 7,
     "metadata": {},
     "output_type": "execute_result"
    }
   ],
   "source": [
    "test_X_missing = test_X.copy()\n",
    "test_X_missing.shape"
   ]
  },
  {
   "cell_type": "code",
   "execution_count": 8,
   "metadata": {},
   "outputs": [],
   "source": [
    "def cal_prob(predict_missing_onehot):\n",
    "    # calcaulate the probility of genotype 0, 1, 2\n",
    "    predict_prob = predict_missing_onehot[:,:,1:3] / predict_missing_onehot[:,:,1:3].sum(axis=2, keepdims=True)\n",
    "    return predict_prob[0]"
   ]
  },
  {
   "cell_type": "markdown",
   "metadata": {},
   "source": [
    "### Modificación propia para incluir missingness de todos los conjuntos de datos"
   ]
  },
  {
   "cell_type": "code",
   "execution_count": 9,
   "metadata": {
    "scrolled": true
   },
   "outputs": [
    {
     "name": "stdout",
     "output_type": "stream",
     "text": [
      "\u001b[1m28/28\u001b[0m \u001b[32m━━━━━━━━━━━━━━━━━━━━\u001b[0m\u001b[37m\u001b[0m \u001b[1m4s\u001b[0m 155ms/step\n",
      "\u001b[1m28/28\u001b[0m \u001b[32m━━━━━━━━━━━━━━━━━━━━\u001b[0m\u001b[37m\u001b[0m \u001b[1m4s\u001b[0m 159ms/step\n",
      "\u001b[1m28/28\u001b[0m \u001b[32m━━━━━━━━━━━━━━━━━━━━\u001b[0m\u001b[37m\u001b[0m \u001b[1m4s\u001b[0m 157ms/step\n",
      "\u001b[1m28/28\u001b[0m \u001b[32m━━━━━━━━━━━━━━━━━━━━\u001b[0m\u001b[37m\u001b[0m \u001b[1m4s\u001b[0m 152ms/step\n"
     ]
    }
   ],
   "source": [
    "# Porcentajes de pérdida\n",
    "missing_perc_list = [0.1, 0.2, 0.3, 0.4]\n",
    "\n",
    "# Función para calcular la probabilidad de los genotipos 0, 1, 2\n",
    "def cal_prob(predict_missing_onehot):\n",
    "    predict_prob = predict_missing_onehot[:,:,1:3] / predict_missing_onehot[:,:,1:3].sum(axis=2, keepdims=True)\n",
    "    return predict_prob\n",
    "\n",
    "# Diccionario para almacenar los resultados de precisión por cada porcentaje\n",
    "accuracy_summary = {}\n",
    "\n",
    "# Iterar sobre los porcentajes de datos faltantes\n",
    "for missing_perc in missing_perc_list:\n",
    "    avg_accuracy = []\n",
    "    \n",
    "    # Generar índices faltantes de una vez para todas las muestras\n",
    "    num_samples = test_X.shape[0]\n",
    "    missing_indices = [np.random.randint(test_X.shape[1], size=int(missing_perc * test_X.shape[1])) for _ in range(num_samples)]\n",
    "    \n",
    "    # Generar la matriz con datos faltantes en un solo paso\n",
    "    test_X_missing = test_X.copy()\n",
    "    for i in range(num_samples):\n",
    "        test_X_missing[i, missing_indices[i], :] = [1, 0, 0]  # Generar genotipos faltantes\n",
    "    \n",
    "    # Predecir utilizando el modelo entrenado en lotes en lugar de predicciones individuales\n",
    "    predict_onehot = SCDA.predict(test_X_missing, batch_size=32)  # Ajustar el tamaño del batch si es necesario\n",
    "    \n",
    "    # Iterar sobre cada muestra para calcular las precisiones\n",
    "    for i in range(num_samples):\n",
    "        # Solo se consideran las posiciones faltantes\n",
    "        predict_missing_onehot = predict_onehot[i:i + 1, missing_indices[i], :]\n",
    "        \n",
    "        # Predicción de la etiqueta\n",
    "        predict_missing = np.argmax(predict_missing_onehot, axis=2)\n",
    "\n",
    "        # Etiqueta real\n",
    "        label_missing_onehot = test_X[i:i + 1, missing_indices[i], :]\n",
    "        label_missing = np.argmax(label_missing_onehot, axis=2)\n",
    "\n",
    "        # Calcular la precisión\n",
    "        correct_prediction = np.equal(predict_missing, label_missing)\n",
    "        accuracy = np.mean(correct_prediction)\n",
    "        avg_accuracy.append(accuracy)\n",
    "\n",
    "    # Guardar la precisión promedio para el porcentaje actual\n",
    "    accuracy_summary[missing_perc] = np.mean(avg_accuracy) "
   ]
  },
  {
   "cell_type": "code",
   "execution_count": 10,
   "metadata": {},
   "outputs": [
    {
     "name": "stdout",
     "output_type": "stream",
     "text": [
      "\n",
      "=== Resumen de precisión promedio por porcentaje de pérdida ===\n",
      "Porcentaje de pérdida: 10.0%, Precisión promedio: 0.9979\n",
      "Porcentaje de pérdida: 20.0%, Precisión promedio: 0.9978\n",
      "Porcentaje de pérdida: 30.0%, Precisión promedio: 0.9976\n",
      "Porcentaje de pérdida: 40.0%, Precisión promedio: 0.9974\n"
     ]
    }
   ],
   "source": [
    "#Mostrar el resumen de las precisiones promedio\n",
    "print(\"\\n=== Resumen de precisión promedio por porcentaje de pérdida ===\")\n",
    "for perc, acc in accuracy_summary.items():\n",
    "    print(f'Porcentaje de pérdida: {perc * 100}%, Precisión promedio: {acc:.4f}')"
   ]
  },
  {
   "cell_type": "code",
   "execution_count": 15,
   "metadata": {},
   "outputs": [
    {
     "data": {
      "image/png": "[encoded data removed]",
      "text/plain": [
       "<Figure size 800x600 with 1 Axes>"
      ]
     },
     "metadata": {},
     "output_type": "display_data"
    }
   ],
   "source": [
    "#Se añade un plotting al modelo original\n",
    "# Extraer los porcentajes y las precisiones promedio del diccionario accuracy_summary\n",
    "percentages = [perc * 100 for perc in accuracy_summary.keys()]\n",
    "accuracies = [acc for acc in accuracy_summary.values()]\n",
    "\n",
    "# Crear el gráfico\n",
    "plt.figure(figsize=(8, 6))\n",
    "plt.plot(percentages, accuracies, marker='o', linestyle='-', color='b', label='Precisión promedio')\n",
    "\n",
    "# Personalizar el gráfico\n",
    "plt.title('Precisión promedio por porcentaje de pérdida de datos')\n",
    "plt.xlabel('Porcentaje de pérdida de datos (%)')\n",
    "plt.ylabel('Precisión promedio')\n",
    "plt.grid(True)\n",
    "plt.legend()\n",
    "\n",
    "# Mostrar el gráfico\n",
    "plt.show()"
   ]
  }
 ],
 "metadata": {
  "kernelspec": {
   "display_name": "TFM",
   "language": "python",
   "name": "python3"
  },
  "language_info": {
   "codemirror_mode": {
    "name": "ipython",
    "version": 3
   },
   "file_extension": ".py",
   "mimetype": "text/x-python",
   "name": "python",
   "nbconvert_exporter": "python",
   "pygments_lexer": "ipython3",
   "version": "3.11.8"
  },
  "toc": {
   "base_numbering": 1,
   "nav_menu": {},
   "number_sections": true,
   "sideBar": true,
   "skip_h1_title": false,
   "title_cell": "Table of Contents",
   "title_sidebar": "Contents",
   "toc_cell": true,
   "toc_position": {},
   "toc_section_display": true,
   "toc_window_display": true
  },
  "varInspector": {
   "cols": {
    "lenName": 16,
    "lenType": 16,
    "lenVar": 40
   },
   "kernels_config": {
    "python": {
     "delete_cmd_postfix": "",
     "delete_cmd_prefix": "del ",
     "library": "var_list.py",
     "varRefreshCmd": "print(var_dic_list())"
    },
    "r": {
     "delete_cmd_postfix": ") ",
     "delete_cmd_prefix": "rm(",
     "library": "var_list.r",
     "varRefreshCmd": "cat(var_dic_list()) "
    }
   },
   "types_to_exclude": [
    "module",
    "function",
    "builtin_function_or_method",
    "instance",
    "_Feature"
   ],
   "window_display": false
  }
 },
 "nbformat": 4,
 "nbformat_minor": 2
}
